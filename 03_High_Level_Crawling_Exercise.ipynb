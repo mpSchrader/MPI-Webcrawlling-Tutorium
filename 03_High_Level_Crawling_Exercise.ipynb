{
 "cells": [
  {
   "cell_type": "markdown",
   "metadata": {
    "collapsed": true
   },
   "source": [
    "# 3. Higher Level Webcrawling (Solution)\n"
   ]
  },
  {
   "cell_type": "markdown",
   "metadata": {},
   "source": [
    "In the first example we create a web crawler from scratch. Now we will use the propably most used Webcrawling Framework [Scrapy](https://scrapy.org/) to do the same thing. <br>\n",
    "Usually Scrapy is run via the command line not in a Notebook, but for the workshop we will use a small hack to run it in the terminal. For a tutorial on how to run Scrapy regularly, see this [tutorial](https://doc.scrapy.org/en/latest/intro/tutorial.html)."
   ]
  },
  {
   "cell_type": "code",
   "execution_count": 1,
   "metadata": {
    "collapsed": true
   },
   "outputs": [],
   "source": [
    "# Settings for notebook\n",
    "from IPython.core.interactiveshell import InteractiveShell\n",
    "InteractiveShell.ast_node_interactivity = \"all\"\n",
    "\n",
    "import scrapy\n",
    "from scrapy.crawler import CrawlerProcess\n",
    "from scrapy.exporters import JsonItemExporter\n",
    "import json\n",
    "import logging\n",
    "import pandas as pd"
   ]
  },
  {
   "cell_type": "markdown",
   "metadata": {},
   "source": [
    "First we setup a Pipeline to store all articles to the articles_pipeline.json file <br>\n",
    "The JSONWriterPipeline is a simple element, which receives an crawled article and stores it into the `articles_pipline.json`."
   ]
  },
  {
   "cell_type": "code",
   "execution_count": 2,
   "metadata": {
    "collapsed": true
   },
   "outputs": [],
   "source": [
    "class JsonWriterPipeline(object):\n",
    "    def __init__(self):\n",
    "        self.file = open(\"articles_pipeline.json\", 'wb')\n",
    "        self.exporter = JsonItemExporter(self.file, encoding='utf-8', ensure_ascii=False)\n",
    "        self.exporter.start_exporting()\n",
    " \n",
    "    def close_spider(self, spider):\n",
    "        self.exporter.finish_exporting()\n",
    "        self.file.close()\n",
    " \n",
    "    def process_item(self, item, spider):\n",
    "        self.exporter.export_item(item)\n",
    "        return item"
   ]
  },
  {
   "cell_type": "markdown",
   "metadata": {},
   "source": [
    "### The Spider\n",
    "A spider is the core of a Scrapy crawler. Every spider needs a list of starting urls. `start_urls` and needs to implement the message `parse(self, response)`. \n",
    "To access the single elements in a website uses [XPath]() or [css](https://doc.scrapy.org/en/latest/topics/selectors.html). A few fundamential examples for the [XPath syntax](https://www.w3schools.com/xml/xpath_syntax.asp) or:\n",
    "- XPath: Select the text of a paragraph based with a special id: `//a[@id=\"author-id\"]/text()`\n",
    "- CSS: Get the href of a link, with a specific class: `a.myclass::attr(href)`\n",
    "- CSS: Get the text of a headline with a specific class: `h1.myheadline::text`"
   ]
  },
  {
   "cell_type": "code",
   "execution_count": 3,
   "metadata": {
    "collapsed": true
   },
   "outputs": [],
   "source": [
    "class ArticleSpider(scrapy.Spider):\n",
    "    \"\"\"\n",
    "    Crawls the all articles published by TechCrunch.\n",
    "    \"\"\"\n",
    "    \n",
    "    name = 'articles'\n",
    "\n",
    "    start_urls = ['https://techcrunch.com/']\n",
    "\n",
    "    custom_settings = {\n",
    "        'LOG_LEVEL': logging.WARNING,\n",
    "        'ITEM_PIPELINES': {'__main__.JsonWriterPipeline': 1}, # Used for pipeline 1\n",
    "        'FEED_FORMAT':'json',\n",
    "        'FEED_URI': 'articles.json'\n",
    "    }\n",
    "    \n",
    "    pagination_count = 0\n",
    "    max_pages = 3 # Maximum number of pages, which list the articles\n",
    "        \n",
    "    def parse(self, response):\n",
    "        \"\"\"\n",
    "        Crawls all pages listing the articles.\n",
    "        \"\"\"\n",
    "        print(\"Starting Crawling: {}\".format(response.url))\n",
    "        # TODO: follow links to article pages\n",
    "        article_urls = response.css('a.post-block__title__link::attr(href)')\n",
    "        for article_url in article_urls:\n",
    "            yield response.follow(article_url, self.parse_articles)\n",
    "\n",
    "        self.pagination_count += 1\n",
    "        if self.pagination_count < self.max_pages and self.max_pages == -1:\n",
    "            # TODO: follow pagination links\n",
    "            next_url = response.css('a.load-more::attr(href)').extract_first()\n",
    "            yield response.follow(next_url, self.parse)\n",
    "            \n",
    "\n",
    "    def parse_articles(self, response):\n",
    "        \"\"\"\n",
    "        Extracts information for a given article.\n",
    "        \"\"\"\n",
    "        # TODO Extract information from article\n",
    "        \n",
    "        title = response.css('h1.article__title::text').extract_first().strip()\n",
    "        author = response.css('div.article__byline a::text').extract_first().strip()\n",
    "        text_raw = response.css('div.article-content p::text').extract()\n",
    "        text = ' '.join(text_raw)\n",
    "        url = response.url\n",
    "        print(url)\n",
    "        article_info = {\n",
    "            'title': title,\n",
    "            'author': author,\n",
    "            'content': text,\n",
    "            'date': '/'.join(url.split('/')[3:6])\n",
    "        }\n",
    "        \n",
    "        #print(article_info)\n",
    "        yield article_info"
   ]
  },
  {
   "cell_type": "markdown",
   "metadata": {},
   "source": [
    "### Start Crawling\n",
    "To start crawling we start a crawler process which uses our ArticleSpider to crawl TechCrunch."
   ]
  },
  {
   "cell_type": "code",
   "execution_count": 4,
   "metadata": {},
   "outputs": [
    {
     "name": "stderr",
     "output_type": "stream",
     "text": [
      "2018-03-22 15:41:58 [scrapy.utils.log] INFO: Scrapy 1.4.0 started (bot: scrapybot)\n",
      "2018-03-22 15:41:58 [scrapy.utils.log] INFO: Overridden settings: {'USER_AGENT': 'Mozilla/4.0 (compatible; MSIE 7.0; Windows NT 5.1)'}\n"
     ]
    },
    {
     "data": {
      "text/plain": [
       "<Deferred at 0x7f76b707abe0>"
      ]
     },
     "execution_count": 4,
     "metadata": {},
     "output_type": "execute_result"
    },
    {
     "name": "stdout",
     "output_type": "stream",
     "text": [
      "Starting Crawling: https://techcrunch.com/\n",
      "https://techcrunch.com/2018/03/22/twitchs-extensions-come-to-mobile/\n",
      "https://techcrunch.com/story/facebook-responds-to-data-misuse/\n",
      "https://techcrunch.com/2018/03/22/swiss-police-order-up-tesla-model-x-police-cars-for-active-duty/\n",
      "https://techcrunch.com/2018/03/22/ansarada-gets-18m-in-series-a-funding-to-help-companies-better-prepare-for-major-deals/\n",
      "https://techcrunch.com/2018/03/21/first-impressions-of-the-199-oculus-go-vr-headset/\n",
      "https://techcrunch.com/2018/03/21/ai-game-trainer-gosu-ai-raises-1-9m-to-give-gamers-a-virtual-assistant/\n",
      "https://techcrunch.com/2018/03/21/video-the-driver-of-the-autonomous-uber-was-distracted-before-fatal-crash/\n",
      "https://techcrunch.com/2018/03/21/get-the-latest-tc-stories-read-to-you-over-the-phone-with-braillevoice/\n",
      "https://techcrunch.com/2018/03/22/revolut-launches-disposable-virtual-cards/\n",
      "https://techcrunch.com/2018/03/22/gopro-to-license-camera-lenses-and-sensors-through-jabil/\n",
      "https://techcrunch.com/2018/03/22/tide-ceo-change/\n",
      "https://techcrunch.com/2018/03/22/uk-data-watchdog-still-waiting-for-warrant-to-raid-cambridge-analytica/\n",
      "https://techcrunch.com/2018/03/22/adstage-new-funding/\n",
      "Starting Crawling: https://techcrunch.com/page/2/\n",
      "https://techcrunch.com/2018/03/22/watch-alexa-meet-the-funniest-family-on-the-internet/\n",
      "https://techcrunch.com/2018/03/22/cloudflare-introduces-free-network-monitoring-tool-for-mobile-app-developers/\n",
      "https://techcrunch.com/2018/03/22/samsungs-galaxy-s9-is-the-way-to-wean-yourself-off-of-dslrs/\n",
      "https://techcrunch.com/2018/03/22/entrepreneur-first-hong-kong/\n",
      "https://techcrunch.com/2018/03/22/skyline-ai-raises-3m-from-sequoia-capital-to-help-real-estate-investors-make-better-decisions/\n",
      "https://techcrunch.com/2018/03/22/huaweis-u-s-plans-hit-major-setback-as-best-buy-said-to-stop-sales/\n",
      "https://techcrunch.com/2018/03/21/twitters-chief-information-security-officer-is-quitting/\n",
      "https://techcrunch.com/2018/03/21/netflix-launches-bug-bounty-program-to-pay-researchers-to-track-down-bugs/\n",
      "https://techcrunch.com/2018/03/21/imposter-syndrome/\n",
      "https://techcrunch.com/2018/03/21/a-15-year-old-hacked-the-secure-ledger-crypto-wallet/\n",
      "https://techcrunch.com/2018/03/21/synologys-c2-backup-services-goes-live-to-users-worldwide/\n",
      "https://techcrunch.com/2018/03/21/sketchfab-lets-you-import-3d-models-into-your-favorite-3d-software/\n",
      "https://techcrunch.com/2018/03/21/elon-musks-boring-co-flamethrower-ships-in-time-for-summer-bbqs/\n",
      "https://techcrunch.com/2018/03/21/youtube-just-became-the-top-grossing-iphone-app-for-the-first-time/\n",
      "https://techcrunch.com/2018/03/21/omega-takes-us-to-the-dark-side-with-their-new-moonwatch/\n",
      "https://techcrunch.com/2018/03/21/one-of-the-youngest-fund-managers-in-the-u-s-just-launched-her-own-accelerator-too/\n",
      "https://techcrunch.com/2018/03/21/molotov-is-no-longer-geoblocked-in-europe/\n",
      "https://techcrunch.com/2018/03/22/watch-deadpool-introduce-the-x-force-in-new-deadpool-2-trailer/\n",
      "https://techcrunch.com/2018/03/21/mits-soft-robotic-fish-is-studying-real-ones-in-fiji/\n",
      "https://techcrunch.com/story/facebook-data-leak-politics/\n",
      "https://techcrunch.com/2018/03/21/mobile-gaming-is-having-a-moment-and-apple-has-the-reins/\n",
      "https://techcrunch.com/2018/03/21/russia-election-systems-hacking-senate-intelligence-dhs-nielsen/\n",
      "https://techcrunch.com/2018/03/21/the-nuanced-challenges-of-antitrust-and-att-time-warner/\n",
      "https://techcrunch.com/2018/03/21/burrow-series-a/\n",
      "https://techcrunch.com/2018/03/21/uber-has-reportedly-rescinded-its-job-offer-for-the-amazon-exec-that-was-its-potential-product-lead/\n",
      "https://techcrunch.com/2018/03/21/bitcoin-jack-dorsey-quote-single-currency/\n",
      "https://techcrunch.com/gallery/yc-demo-day-top-startups-2018/\n",
      "Starting Crawling: https://techcrunch.com/page/3/\n",
      "https://techcrunch.com/2018/03/21/google-brings-new-security-features-to-its-cloud/\n",
      "https://techcrunch.com/2018/03/21/paperspace-goes-serverless-to-simplify-ai-deployment-in-the-cloud/\n",
      "https://techcrunch.com/2018/03/21/apple-is-an-exception-to-nearly-every-rule/\n",
      "https://techcrunch.com/2018/03/21/facebook-messenger-gets-admin-rights-for-group-chats/\n",
      "https://techcrunch.com/2018/03/21/opensignal-which-taps-sensors-on-100m-smartphones-to-monitor-network-speed-and-weather-raises-8m/\n",
      "https://techcrunch.com/2018/03/21/apple-watch-gets-new-bands-for-spring/\n",
      "https://techcrunch.com/2018/03/21/otonomo-and-waze-founders-join-the-techcrunch-tel-aviv-conference/\n",
      "https://techcrunch.com/2018/03/21/dropbox-boosts-its-price-range-for-its-ipo-as-it-nears-an-8b-valuation/\n",
      "https://techcrunch.com/2018/03/21/cardiogram-atrial-fibrillation/\n",
      "https://techcrunch.com/2018/03/21/roblox-the-club-penguin-for-gen-z-is-now-cash-flow-positive/\n",
      "https://techcrunch.com/2018/03/21/pandora-doubles-down-on-ad-tech-with-acquisition-of-adswizz-for-145-million/\n",
      "https://techcrunch.com/2018/03/21/clari-ai-sales/\n",
      "https://techcrunch.com/2018/03/21/instagram-has-unreleased-nametag-scanning-adds-links-to-profiles/\n",
      "https://techcrunch.com/2018/03/21/gfycat-looks-to-be-a-hub-of-content-for-ar-experience-development/\n",
      "https://techcrunch.com/2018/03/21/target-tests-a-new-loyalty-program-with-1-back-shipt-discounts-and-free-next-day-delivery/\n",
      "https://techcrunch.com/2018/03/21/cadillac-brings-spotify-integration-to-select-models/\n",
      "https://techcrunch.com/2018/03/21/showcase-your-countrys-startups-at-disrupt-sf/\n",
      "https://techcrunch.com/2018/03/21/jimmy-iovine-said-to-be-transitioning-to-consulting-role-at-apple/\n",
      "https://techcrunch.com/2018/03/21/layoffs-at-bike-share-startup-zagster-following-15-million-raise/\n"
     ]
    }
   ],
   "source": [
    "process = CrawlerProcess({\n",
    "    'USER_AGENT': 'Mozilla/4.0 (compatible; MSIE 7.0; Windows NT 5.1)'\n",
    "})\n",
    "\n",
    "process.crawl(ArticleSpider)\n",
    "process.start()"
   ]
  },
  {
   "cell_type": "markdown",
   "metadata": {},
   "source": [
    "### Use data\n",
    "We can use Pandas to load the JSON file into a dataframe."
   ]
  },
  {
   "cell_type": "code",
   "execution_count": 5,
   "metadata": {},
   "outputs": [
    {
     "name": "stdout",
     "output_type": "stream",
     "text": [
      "(59, 4)\n"
     ]
    },
    {
     "data": {
      "text/html": [
       "<div>\n",
       "<style>\n",
       "    .dataframe thead tr:only-child th {\n",
       "        text-align: right;\n",
       "    }\n",
       "\n",
       "    .dataframe thead th {\n",
       "        text-align: left;\n",
       "    }\n",
       "\n",
       "    .dataframe tbody tr th {\n",
       "        vertical-align: top;\n",
       "    }\n",
       "</style>\n",
       "<table border=\"1\" class=\"dataframe\">\n",
       "  <thead>\n",
       "    <tr style=\"text-align: right;\">\n",
       "      <th></th>\n",
       "      <th>author</th>\n",
       "      <th>content</th>\n",
       "      <th>date</th>\n",
       "      <th>title</th>\n",
       "    </tr>\n",
       "  </thead>\n",
       "  <tbody>\n",
       "    <tr>\n",
       "      <th>0</th>\n",
       "      <td>Sarah Perez</td>\n",
       "      <td>– the tools that allows streamers to custom...</td>\n",
       "      <td>2018/03/22</td>\n",
       "      <td>Twitch’s extensions come to mobile</td>\n",
       "    </tr>\n",
       "    <tr>\n",
       "      <th>1</th>\n",
       "      <td>Natasha Lomas</td>\n",
       "      <td></td>\n",
       "      <td>story/facebook-responds-to-data-misuse/</td>\n",
       "      <td>Facebook responds to data misuse</td>\n",
       "    </tr>\n",
       "    <tr>\n",
       "      <th>2</th>\n",
       "      <td>Darrell Etherington</td>\n",
       "      <td>Model X has had some brushes with law enforce...</td>\n",
       "      <td>2018/03/22</td>\n",
       "      <td>Swiss police order up Tesla Model X police car...</td>\n",
       "    </tr>\n",
       "    <tr>\n",
       "      <th>3</th>\n",
       "      <td>Catherine Shu</td>\n",
       "      <td>Australian startup  , which provides tools for...</td>\n",
       "      <td>2018/03/22</td>\n",
       "      <td>Ansarada gets $18M in Series A funding to help...</td>\n",
       "    </tr>\n",
       "    <tr>\n",
       "      <th>4</th>\n",
       "      <td>Lucas Matney</td>\n",
       "      <td>Virtual reality seems to have become a very ti...</td>\n",
       "      <td>2018/03/21</td>\n",
       "      <td>First impressions of the $199 Oculus Go VR hea...</td>\n",
       "    </tr>\n",
       "  </tbody>\n",
       "</table>\n",
       "</div>"
      ],
      "text/plain": [
       "                author                                            content  \\\n",
       "0          Sarah Perez     – the tools that allows streamers to custom...   \n",
       "1        Natasha Lomas                                                      \n",
       "2  Darrell Etherington   Model X has had some brushes with law enforce...   \n",
       "3        Catherine Shu  Australian startup  , which provides tools for...   \n",
       "4         Lucas Matney  Virtual reality seems to have become a very ti...   \n",
       "\n",
       "                                      date  \\\n",
       "0                               2018/03/22   \n",
       "1  story/facebook-responds-to-data-misuse/   \n",
       "2                               2018/03/22   \n",
       "3                               2018/03/22   \n",
       "4                               2018/03/21   \n",
       "\n",
       "                                               title  \n",
       "0                 Twitch’s extensions come to mobile  \n",
       "1                   Facebook responds to data misuse  \n",
       "2  Swiss police order up Tesla Model X police car...  \n",
       "3  Ansarada gets $18M in Series A funding to help...  \n",
       "4  First impressions of the $199 Oculus Go VR hea...  "
      ]
     },
     "execution_count": 5,
     "metadata": {},
     "output_type": "execute_result"
    }
   ],
   "source": [
    "dfjson = pd.read_json('articles_pipeline.json')\n",
    "print(dfjson.shape)\n",
    "dfjson.head()"
   ]
  },
  {
   "cell_type": "code",
   "execution_count": null,
   "metadata": {
    "collapsed": true
   },
   "outputs": [],
   "source": []
  },
  {
   "cell_type": "code",
   "execution_count": null,
   "metadata": {
    "collapsed": true
   },
   "outputs": [],
   "source": []
  },
  {
   "cell_type": "code",
   "execution_count": null,
   "metadata": {
    "collapsed": true
   },
   "outputs": [],
   "source": []
  },
  {
   "cell_type": "code",
   "execution_count": null,
   "metadata": {
    "collapsed": true
   },
   "outputs": [],
   "source": []
  },
  {
   "cell_type": "code",
   "execution_count": null,
   "metadata": {
    "collapsed": true
   },
   "outputs": [],
   "source": []
  },
  {
   "cell_type": "code",
   "execution_count": null,
   "metadata": {
    "collapsed": true
   },
   "outputs": [],
   "source": []
  },
  {
   "cell_type": "code",
   "execution_count": null,
   "metadata": {
    "collapsed": true
   },
   "outputs": [],
   "source": []
  },
  {
   "cell_type": "code",
   "execution_count": null,
   "metadata": {
    "collapsed": true
   },
   "outputs": [],
   "source": []
  },
  {
   "cell_type": "code",
   "execution_count": null,
   "metadata": {
    "collapsed": true
   },
   "outputs": [],
   "source": []
  },
  {
   "cell_type": "code",
   "execution_count": null,
   "metadata": {
    "collapsed": true
   },
   "outputs": [],
   "source": []
  }
 ],
 "metadata": {
  "kernelspec": {
   "display_name": "Python 3",
   "language": "python",
   "name": "python3"
  },
  "language_info": {
   "codemirror_mode": {
    "name": "ipython",
    "version": 3
   },
   "file_extension": ".py",
   "mimetype": "text/x-python",
   "name": "python",
   "nbconvert_exporter": "python",
   "pygments_lexer": "ipython3",
   "version": "3.6.3"
  }
 },
 "nbformat": 4,
 "nbformat_minor": 2
}
