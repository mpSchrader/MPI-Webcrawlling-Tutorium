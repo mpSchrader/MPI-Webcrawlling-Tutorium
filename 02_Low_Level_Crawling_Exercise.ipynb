{
 "cells": [
  {
   "cell_type": "markdown",
   "metadata": {
    "collapsed": true
   },
   "source": [
    "# 2. Low Level Crawling"
   ]
  },
  {
   "cell_type": "markdown",
   "metadata": {},
   "source": [
    "In the following we will crawl [TechCrunch.com](https://techcrunch.com) as an example. Please note that this is only an example and should not be used in any commercial context or something similar, to not violate TechCrunches terms and conditions.\n",
    "<br>\n",
    "<br>\n",
    "To implement our low level crawler we will only use basic Python packages, such as [requests](http://docs.python-requests.org/en/master/), [BeautifulSoup](https://www.crummy.com/software/BeautifulSoup/bs4/doc/), and [Pandas](https://pandas.pydata.org/pandas-docs/stable/). Firstly, we will implement the individual components of the webcrawler as functions. Secondly, we will combine everything to functional webcrawler."
   ]
  },
  {
   "cell_type": "markdown",
   "metadata": {},
   "source": [
    "### Preparation\n",
    "The preparation consists of importing all needed packages and defining the basic variables."
   ]
  },
  {
   "cell_type": "code",
   "execution_count": 8,
   "metadata": {
    "collapsed": true
   },
   "outputs": [],
   "source": [
    "import requests\n",
    "import bs4\n",
    "import json\n",
    "import time\n",
    "import pandas as pd"
   ]
  },
  {
   "cell_type": "code",
   "execution_count": 9,
   "metadata": {
    "collapsed": true
   },
   "outputs": [],
   "source": [
    "base_url = 'https://techcrunch.com'\n",
    "number_of_pages = 3"
   ]
  },
  {
   "cell_type": "markdown",
   "metadata": {},
   "source": [
    "### Get the webpage for one url\n",
    "First we will implement a simple function, which gets an URL and returns a BeautifulSoup-Object. Therefor we will send a GET request and parse the response text to the BeautifulSoup-Object."
   ]
  },
  {
   "cell_type": "code",
   "execution_count": 65,
   "metadata": {
    "collapsed": true
   },
   "outputs": [],
   "source": [
    "def get_page(url):\n",
    "    # TODO:\n",
    "    #   - Get HTML Page\n",
    "    #   - Check Status\n",
    "    #   - Convert to BeautifulSoup\n",
    "    # HTTP Get request \n",
    "    \n",
    "    response = requests.get(url)\n",
    "\n",
    "    if not response.status_code == 200:\n",
    "        raise Exception(\"Error with reqest\")\n",
    "    \n",
    "    page = bs4.BeautifulSoup(response.text, 'lxml')\n",
    "    \n",
    "    return page"
   ]
  },
  {
   "cell_type": "markdown",
   "metadata": {},
   "source": [
    "### Get Article URLs\n",
    "Now we need to find all URLs to the articles listed on the page we previously retrieved. We can find the urls in the **Read More** buttons.\n",
    "![Example Article](img/article.png)\n",
    "Each link has a structure like this:\n",
    "```HTML \n",
    "<a href=\"https://techcrunch.com/2018/03/02/some-random-article/\" \n",
    "   class=\"read-more\" \n",
    "   data-omni-sm=\"gbl_river_readmore,2\">\n",
    "        Read More\n",
    "</a>```\n",
    "To identfiy all relevant links we can use BeautifullSoup's find all function, which allows us also to filter for specific classes. In our case the class is called **read-more**.\n"
   ]
  },
  {
   "cell_type": "code",
   "execution_count": 66,
   "metadata": {},
   "outputs": [
    {
     "name": "stdout",
     "output_type": "stream",
     "text": [
      "https://techcrunch.com/2018/03/22/tide-ceo-change/\n",
      "https://techcrunch.com/2018/03/22/revolut-launches-disposable-virtual-cards/\n",
      "https://techcrunch.com/story/facebook-responds-to-data-misuse/\n",
      "https://techcrunch.com/2018/03/21/first-impressions-of-the-199-oculus-go-vr-headset/\n",
      "https://techcrunch.com/2018/03/21/video-the-driver-of-the-autonomous-uber-was-distracted-before-fatal-crash/\n",
      "https://techcrunch.com/2018/03/21/get-the-latest-tc-stories-read-to-you-over-the-phone-with-braillevoice/\n",
      "https://techcrunch.com/2018/03/21/ai-game-trainer-gosu-ai-raises-1-9m-to-give-gamers-a-virtual-assistant/\n",
      "https://techcrunch.com/2018/03/21/now-would-be-a-good-time-for-mark-zuckerberg-to-resign/\n",
      "https://techcrunch.com/2018/03/21/twitters-chief-information-security-officer-is-quitting/\n",
      "https://techcrunch.com/gallery/yc-demo-day-top-startups-2018/\n",
      "https://techcrunch.com/2018/03/21/burrow-series-a/\n",
      "https://techcrunch.com/2018/03/21/bitcoin-jack-dorsey-quote-single-currency/\n",
      "https://techcrunch.com/2018/03/21/uber-has-reportedly-rescinded-its-job-offer-for-the-amazon-exec-that-was-its-potential-product-lead/\n",
      "https://techcrunch.com/2018/03/21/the-nuanced-challenges-of-antitrust-and-att-time-warner/\n",
      "https://techcrunch.com/2018/03/21/russia-election-systems-hacking-senate-intelligence-dhs-nielsen/\n",
      "https://techcrunch.com/2018/03/21/mobile-gaming-is-having-a-moment-and-apple-has-the-reins/\n",
      "https://techcrunch.com/story/facebook-data-leak-politics/\n",
      "https://techcrunch.com/2018/03/21/one-of-the-youngest-fund-managers-in-the-u-s-just-launched-her-own-accelerator-too/\n",
      "https://techcrunch.com/2018/03/21/youtube-just-became-the-top-grossing-iphone-app-for-the-first-time/\n",
      "https://techcrunch.com/2018/03/21/molotov-is-no-longer-geoblocked-in-europe/\n"
     ]
    }
   ],
   "source": [
    "a_s = soup.find_all('a', {'class': 'post-block__title__link'})\n",
    "for a in a_s:\n",
    "    print(a.attrs['href'])"
   ]
  },
  {
   "cell_type": "code",
   "execution_count": 37,
   "metadata": {
    "collapsed": true
   },
   "outputs": [],
   "source": [
    "def get_article_urls(page):\n",
    "    # Get a list of all links of class read-more\n",
    "    \n",
    "    refs = []\n",
    "    a_s = page.find_all('a', {'class': 'post-block__title__link'})\n",
    "    for a in a_s:\n",
    "        refs.append(a.attrs['href'])\n",
    "    return refs"
   ]
  },
  {
   "cell_type": "markdown",
   "metadata": {},
   "source": [
    "Test your code:"
   ]
  },
  {
   "cell_type": "code",
   "execution_count": 38,
   "metadata": {},
   "outputs": [
    {
     "name": "stderr",
     "output_type": "stream",
     "text": [
      "/home/max/anaconda3/lib/python3.6/site-packages/bs4/__init__.py:181: UserWarning: No parser was explicitly specified, so I'm using the best available HTML parser for this system (\"lxml\"). This usually isn't a problem, but if you run this code on another system, or in a different virtual environment, it may use a different parser and behave differently.\n",
      "\n",
      "The code that caused this warning is on line 193 of the file /home/max/anaconda3/lib/python3.6/runpy.py. To get rid of this warning, change code that looks like this:\n",
      "\n",
      " BeautifulSoup(YOUR_MARKUP})\n",
      "\n",
      "to this:\n",
      "\n",
      " BeautifulSoup(YOUR_MARKUP, \"lxml\")\n",
      "\n",
      "  markup_type=markup_type))\n"
     ]
    },
    {
     "data": {
      "text/plain": [
       "['https://techcrunch.com/2018/03/21/omega-takes-us-to-the-dark-side-with-their-new-moonwatch/',\n",
       " 'https://techcrunch.com/2018/03/21/elon-musks-boring-co-flamethrower-ships-in-time-for-summer-bbqs/',\n",
       " 'https://techcrunch.com/2018/03/21/netflix-launches-bug-bounty-program-to-pay-researchers-to-track-down-bugs/']"
      ]
     },
     "execution_count": 38,
     "metadata": {},
     "output_type": "execute_result"
    }
   ],
   "source": [
    "url = 'https://techcrunch.com/page/2/'\n",
    "page = get_page(url)\n",
    "article_urls = get_article_urls(page)\n",
    "article_urls[:3]"
   ]
  },
  {
   "cell_type": "markdown",
   "metadata": {},
   "source": [
    "### Get Article Info\n",
    "In this step we will implement a function, which extracts all wanted information for one article url. You will need to implement:\n",
    "1. Get the page (Hint: You can use already implemented functions)\n",
    "2. Extract all desired information (Title, Authors, Date, Tags, Text)\n",
    "3. Combine all in a dictionary\n",
    "\n",
    "The extraction of the information works kind of similar to previous code. You just need `page.find(...)` and `page.find_all(...)`"
   ]
  },
  {
   "cell_type": "code",
   "execution_count": 60,
   "metadata": {},
   "outputs": [],
   "source": [
    "def get_article_info(url, delay=1):\n",
    "    \n",
    "    article = get_page(url)\n",
    "\n",
    "    title = article.find('h1').text\n",
    "    author = article.find('div', {\"class\": \"article__byline\"}).find('a').text.strip()\n",
    "    text = article.find('div', {\"class\": \"article-content\"}).text.strip()\n",
    "    \n",
    "    import datetime\n",
    "    date_crawling = str(datetime.date.today())\n",
    "    \n",
    "    article = {\n",
    "        'title': title,\n",
    "        'author': author,\n",
    "        'text': text,\n",
    "        'date': '/'.join(url.split('/')[3:6]),\n",
    "        'crawled_at': date_crawling\n",
    "    }\n",
    "    \n",
    "    return article"
   ]
  },
  {
   "cell_type": "markdown",
   "metadata": {},
   "source": [
    "Test your code:"
   ]
  },
  {
   "cell_type": "code",
   "execution_count": 61,
   "metadata": {},
   "outputs": [
    {
     "name": "stderr",
     "output_type": "stream",
     "text": [
      "/home/max/anaconda3/lib/python3.6/site-packages/bs4/__init__.py:181: UserWarning: No parser was explicitly specified, so I'm using the best available HTML parser for this system (\"lxml\"). This usually isn't a problem, but if you run this code on another system, or in a different virtual environment, it may use a different parser and behave differently.\n",
      "\n",
      "The code that caused this warning is on line 193 of the file /home/max/anaconda3/lib/python3.6/runpy.py. To get rid of this warning, change code that looks like this:\n",
      "\n",
      " BeautifulSoup(YOUR_MARKUP})\n",
      "\n",
      "to this:\n",
      "\n",
      " BeautifulSoup(YOUR_MARKUP, \"lxml\")\n",
      "\n",
      "  markup_type=markup_type))\n"
     ]
    },
    {
     "data": {
      "text/plain": [
       "{'author': 'Romain Dillet',\n",
       " 'crawled_at': '2018-03-22',\n",
       " 'date': '2018/03/22',\n",
       " 'text': 'Fintech  startup Revolut is launching a new type of virtual cards — disposable cards for online purchases. While you could already generate additional virtual cards for a fee, this is a different kind of virtual card as it gets destroyed after each transaction.\\nIf you usually shop on Amazon or if you have a Spotify subscription, those services first asked you to enter your card number and they keep charging the same card.\\nBut what if you end up on a dodgy-looking site but you really want to buy that funny pair of socks? Chances are you won’t ever purchase anything againt on this website. And you don’t want to give them your actual card information.\\nNow, you can generate a virtual card in Revolut  and enter it on that weird site. After the transaction, Revolut will disable this card forever. If the website wants to charge you again, the transaction will fail.\\nAnd if you’re on a shopping spree, Revolut generates a new disposable card seconds after the existing one is used. So you won’t be able to use those disposable cards for online subscriptions and recurring payments. But disposable cards can be useful to prevent fraud. You need a premium subscription to access disposable cards.\\nThere’s no change to permanent cards. When you create a Revolut account, you get a virtual card for free. You can get a physical card for £5/€6 or you can subscribe to a Revolut Premium account to get it for free. Additional cards (physical or virtual) cost £5/€6, with a maximum of five cards in total.',\n",
       " 'title': 'Revolut launches disposable virtual cards'}"
      ]
     },
     "execution_count": 61,
     "metadata": {},
     "output_type": "execute_result"
    }
   ],
   "source": [
    "url = 'https://techcrunch.com/2018/03/22/revolut-launches-disposable-virtual-cards/'\n",
    "article = get_article_info(url, delay=0)\n",
    "# Shorten text for better readability. Not needed in the real crawler.\n",
    "#article['text'] = article['text'][:300] + '...'\n",
    "article"
   ]
  },
  {
   "cell_type": "code",
   "execution_count": 57,
   "metadata": {},
   "outputs": [
    {
     "data": {
      "text/plain": [
       "'2018/03/22'"
      ]
     },
     "execution_count": 57,
     "metadata": {},
     "output_type": "execute_result"
    }
   ],
   "source": []
  },
  {
   "cell_type": "markdown",
   "metadata": {},
   "source": [
    "### Get the next URL\n",
    "Finally we need to extraxt the URL of the next page listing articles. We will use the same procedure as used before to find the href with the text next.<br>\n",
    "![Next Button](img/next_button.png)"
   ]
  },
  {
   "cell_type": "code",
   "execution_count": 62,
   "metadata": {
    "collapsed": true
   },
   "outputs": [],
   "source": [
    "def get_next_url(page, base_url):\n",
    "    \n",
    "    # TODO: Extract next url\n",
    "    \n",
    "    url = page.find('a', {'class': 'load-more'})\n",
    "    url = url.attrs['href']\n",
    "    \n",
    "    return url "
   ]
  },
  {
   "cell_type": "code",
   "execution_count": 63,
   "metadata": {},
   "outputs": [
    {
     "data": {
      "text/plain": [
       "'https://techcrunch.com/page/3/'"
      ]
     },
     "execution_count": 63,
     "metadata": {},
     "output_type": "execute_result"
    }
   ],
   "source": [
    "get_next_url(page, base_url)"
   ]
  },
  {
   "cell_type": "markdown",
   "metadata": {},
   "source": [
    "### Put it all together\n",
    "Now we implemented all the important parts, we need to run the crawler. The last challenge is to put them together. Therfor we will run through **number_of_pages** pages, which list recent articles on TechCrunch, by:\n",
    "1. Get the page for the current URL\n",
    "2. Extract the article URLs for each page.\n",
    "3. Get the information for every article.\n",
    "4. Add the article information to the list articles, containg the information for all articles.\n",
    "5. Find reference to next page listing articles"
   ]
  },
  {
   "cell_type": "code",
   "execution_count": 68,
   "metadata": {},
   "outputs": [
    {
     "name": "stdout",
     "output_type": "stream",
     "text": [
      "Crawling: https://techcrunch.com\n",
      "https://techcrunch.com/story/facebook-responds-to-data-misuse/\n",
      "https://techcrunch.com/2018/03/22/tide-ceo-change/\n",
      "https://techcrunch.com/2018/03/22/revolut-launches-disposable-virtual-cards/\n",
      "https://techcrunch.com/2018/03/21/first-impressions-of-the-199-oculus-go-vr-headset/\n",
      "https://techcrunch.com/2018/03/21/video-the-driver-of-the-autonomous-uber-was-distracted-before-fatal-crash/\n",
      "https://techcrunch.com/2018/03/21/get-the-latest-tc-stories-read-to-you-over-the-phone-with-braillevoice/\n",
      "https://techcrunch.com/2018/03/21/ai-game-trainer-gosu-ai-raises-1-9m-to-give-gamers-a-virtual-assistant/\n",
      "https://techcrunch.com/2018/03/21/now-would-be-a-good-time-for-mark-zuckerberg-to-resign/\n",
      "https://techcrunch.com/2018/03/21/twitters-chief-information-security-officer-is-quitting/\n",
      "https://techcrunch.com/gallery/yc-demo-day-top-startups-2018/\n",
      "https://techcrunch.com/2018/03/21/burrow-series-a/\n",
      "https://techcrunch.com/2018/03/21/bitcoin-jack-dorsey-quote-single-currency/\n",
      "https://techcrunch.com/2018/03/21/uber-has-reportedly-rescinded-its-job-offer-for-the-amazon-exec-that-was-its-potential-product-lead/\n",
      "https://techcrunch.com/2018/03/21/the-nuanced-challenges-of-antitrust-and-att-time-warner/\n",
      "https://techcrunch.com/2018/03/21/russia-election-systems-hacking-senate-intelligence-dhs-nielsen/\n",
      "https://techcrunch.com/2018/03/21/mobile-gaming-is-having-a-moment-and-apple-has-the-reins/\n",
      "https://techcrunch.com/story/facebook-data-leak-politics/\n",
      "https://techcrunch.com/2018/03/21/one-of-the-youngest-fund-managers-in-the-u-s-just-launched-her-own-accelerator-too/\n",
      "https://techcrunch.com/2018/03/21/youtube-just-became-the-top-grossing-iphone-app-for-the-first-time/\n",
      "https://techcrunch.com/2018/03/21/molotov-is-no-longer-geoblocked-in-europe/\n",
      "Crawling: https://techcrunch.com/page/2/\n",
      "https://techcrunch.com/2018/03/21/omega-takes-us-to-the-dark-side-with-their-new-moonwatch/\n",
      "https://techcrunch.com/2018/03/21/elon-musks-boring-co-flamethrower-ships-in-time-for-summer-bbqs/\n",
      "https://techcrunch.com/2018/03/21/netflix-launches-bug-bounty-program-to-pay-researchers-to-track-down-bugs/\n",
      "https://techcrunch.com/2018/03/21/sketchfab-lets-you-import-3d-models-into-your-favorite-3d-software/\n",
      "https://techcrunch.com/2018/03/21/mits-soft-robotic-fish-is-studying-real-ones-in-fiji/\n",
      "https://techcrunch.com/2018/03/21/imposter-syndrome/\n",
      "https://techcrunch.com/2018/03/21/a-15-year-old-hacked-the-secure-ledger-crypto-wallet/\n",
      "https://techcrunch.com/2018/03/21/synologys-c2-backup-services-goes-live-to-users-worldwide/\n",
      "https://techcrunch.com/2018/03/21/instagram-has-unreleased-nametag-scanning-adds-links-to-profiles/\n",
      "https://techcrunch.com/2018/03/21/cadillac-brings-spotify-integration-to-select-models/\n",
      "https://techcrunch.com/2018/03/21/target-tests-a-new-loyalty-program-with-1-back-shipt-discounts-and-free-next-day-delivery/\n",
      "https://techcrunch.com/2018/03/21/layoffs-at-bike-share-startup-zagster-following-15-million-raise/\n",
      "https://techcrunch.com/2018/03/21/clari-ai-sales/\n",
      "https://techcrunch.com/2018/03/21/jimmy-iovine-said-to-be-transitioning-to-consulting-role-at-apple/\n",
      "https://techcrunch.com/2018/03/21/pandora-doubles-down-on-ad-tech-with-acquisition-of-adswizz-for-145-million/\n",
      "https://techcrunch.com/2018/03/21/gfycat-looks-to-be-a-hub-of-content-for-ar-experience-development/\n",
      "https://techcrunch.com/2018/03/21/showcase-your-countrys-startups-at-disrupt-sf/\n",
      "https://techcrunch.com/2018/03/21/cardiogram-atrial-fibrillation/\n",
      "https://techcrunch.com/2018/03/21/dropbox-boosts-its-price-range-for-its-ipo-as-it-nears-an-8b-valuation/\n",
      "https://techcrunch.com/2018/03/21/roblox-the-club-penguin-for-gen-z-is-now-cash-flow-positive/\n",
      "Finished crawling. Found 38 Articles\n"
     ]
    }
   ],
   "source": [
    "current_url = base_url\n",
    "number_of_pages = 2\n",
    "\n",
    "articles = []\n",
    "for n in range(number_of_pages):\n",
    "    \n",
    "    print('Crawling: {}'.format(current_url))    \n",
    "    \n",
    "    # 1. Get the page for the current URL    \n",
    "    # 2. Extract the article URLs for each page.\n",
    "    # 3. Get the information for every article.\n",
    "    # 4. Add the article information to the list articles, containg the information for all articles.\n",
    "    # 5. Find reference to next page listing articles\n",
    "   \n",
    "    current_page = get_page(current_url)\n",
    "    \n",
    "    article_urls = get_article_urls(current_page)\n",
    "    \n",
    "    for article_url in article_urls:\n",
    "        print(article_url)\n",
    "        try:\n",
    "            info = get_article_info(article_url)\n",
    "            articles.append(info)\n",
    "        except:\n",
    "            pass\n",
    "        \n",
    "    current_url = get_next_url(current_page, base_url)\n",
    "    \n",
    "print('Finished crawling. Found {} Articles'.format(len(articles)))"
   ]
  },
  {
   "cell_type": "markdown",
   "metadata": {},
   "source": [
    "### Storing results to csv\n",
    "To store the our articles we use the library [Pandas](https://pandas.pydata.org/pandas-docs/stable/), which is the default library for Python to handle dataframes."
   ]
  },
  {
   "cell_type": "code",
   "execution_count": 69,
   "metadata": {},
   "outputs": [
    {
     "data": {
      "text/plain": [
       "[{'author': \"Steve O'Hear\",\n",
       "  'crawled_at': '2018-03-22',\n",
       "  'date': '2018/03/22',\n",
       "  'text': 'Changes are afoot at Tide, the U.K. fintech startup that offers banking services for small businesses. TechCrunch has learned that founder George Bevis is planning to step down as CEO, and that the nearly three-year old company is actively headhunting for his replacement.\\nIt comes at a time when Tide  — which counts 30,000 small business sign ups — is said to be entering ‘scale-up’ mode, with a headcount approaching 100 employees, and ambitions to expand internationally. Earlier this week the service saw a rebrand, including a new ‘vertical’ design for the Tide card and the slogan “Do Less Banking,” a reference to the startup’s mission to make the lives of small business owners easier.\\nThe company also announced that it had got a regulatory upgrade and is now authorised as an electronic money institution by U.K. regulator the FCA. This gives Tide more direct access to banking infrastructure and means that over time it will be less reliant on third-party providers and can have more flexibility in how it serves customers, although it still hasn’t (yet?) chosen to apply for a fully fledged bank license.\\nConfirming that Tide is recruiting a new CEO, founder Bevis gave TechCrunch the following statement:\\n“I’m a small business-focussed guy who’s had the privilege of building an amazing company serving small businesses.  Now our own business isn’t small any more it’s time for me to think about bringing in someone who knows at least as much about international scale-ups as I know about U.K. startups. Tide will stay focussed on saving small business owners time — in future all across the world. I’m looking forward to continuing to play a key role, both inside the business and on the board”.\\nI’m told that the decision to start recruiting for a new CEO was instigated by Bevis in discussion with the Tide board, who are fully supportive. The thinking from the Tide founder is that now is a good time to look for a CEO experienced in scaling a company as the early-stage founding job is materially complete, including developing the core Tide product and finding market fit.\\nMeanwhile, I understand that the new CEO will be tasked with executing Tide’s growth plans, which, along with international expansion, will include evolving the startup to a full SMB banking platform play that will see it continue to plug into providers of other bank related services for small business and further commercializing through revenue-share deals. The idea is that by creating a Tide ecosystem, the company “can scale far beyond the size of any single individual provider”.\\nTo that end, Tide has secured over $16 million in funding to date from VCs including Creandum, LocalGlobe, Passion Capital and fintech specialist, Anthemis, as well as well-known angel investors including Errol Damelin (Wonga), Alex Chesterman (Zoopla/ZPG) and William Reeve (Lovefilm, Graze, and currently CEO of Goodlord).',\n",
       "  'title': 'The founder of business banking startup Tide plans to step down as CEO'},\n",
       " {'author': 'Romain Dillet',\n",
       "  'crawled_at': '2018-03-22',\n",
       "  'date': '2018/03/22',\n",
       "  'text': 'Fintech  startup Revolut is launching a new type of virtual cards — disposable cards for online purchases. While you could already generate additional virtual cards for a fee, this is a different kind of virtual card as it gets destroyed after each transaction.\\nIf you usually shop on Amazon or if you have a Spotify subscription, those services first asked you to enter your card number and they keep charging the same card.\\nBut what if you end up on a dodgy-looking site but you really want to buy that funny pair of socks? Chances are you won’t ever purchase anything againt on this website. And you don’t want to give them your actual card information.\\nNow, you can generate a virtual card in Revolut  and enter it on that weird site. After the transaction, Revolut will disable this card forever. If the website wants to charge you again, the transaction will fail.\\nAnd if you’re on a shopping spree, Revolut generates a new disposable card seconds after the existing one is used. So you won’t be able to use those disposable cards for online subscriptions and recurring payments. But disposable cards can be useful to prevent fraud. You need a premium subscription to access disposable cards.\\nThere’s no change to permanent cards. When you create a Revolut account, you get a virtual card for free. You can get a physical card for £5/€6 or you can subscribe to a Revolut Premium account to get it for free. Additional cards (physical or virtual) cost £5/€6, with a maximum of five cards in total.',\n",
       "  'title': 'Revolut launches disposable virtual cards'},\n",
       " {'author': 'Lucas Matney',\n",
       "  'crawled_at': '2018-03-22',\n",
       "  'date': '2018/03/21',\n",
       "  'text': 'Virtual reality seems to have become a very tired topic to consumers, products are still getting made though because big tech companies are convinced of its eventual ubiquity. The challenge now becomes attracting attention from people whose attention spans for what you’re selling has perhaps already timed out.\\nOculus  Go is the latest VR hardware to hit the market from ole Facebook.com and it seems to be a pretty thoughtful move with hardware that makes some solid improvements to existing products in a package that doesn’t push performance but drives down costs and complexity. I had a chance to demo the headset this afternoon and had largely positive first impressions.\\n\\nOculus Go turns on when you press the power button and it works from there. For all the good things I’ve had to say about the Rift or Gear VR, a straightforward setup every time I want to use the headset has never been one of them. By owning the hardware completely, Oculus isn’t beholden to what updates need to be installed or what app you have to click, it’s all very simple and feels remarkably less labor-intensive.\\nThe headset manages to feel more high quality than the Rift in a lot of ways. Comfort-wise, I would say the Oculus Go bests even the first-gen Google Daydream View headset which pretty much felt like a tight sweater on your face — in a good way. The Oculus Go fabric “facial interface” is spongey and breathable and actually fit around my glasses which is a first for headsets from Oculus.\\nThe display is sharp and the lenses appear to be the best that Oculus has built yet. I’ll need to spend a bit more time with the screen to get a full impression on this front, but assuredly this feels like far less of a toy than the Gear VR does.\\n\\nIt’s hard to judge the device’s sound quality because the Game Developers’ Conference kept a low roar even when demoing in private rooms, but I will say that the stereo speakers next to your ears seem to be more of a fallback option to headphones, delivering audio that is neither particularly loud nor crisp. That being said, I’m happy they were included given how many high-end headsets don’t have any integrated audio.\\nOther notes, the controller is fine and is about as good as it is going to get for non-tracked input. The headset itself also didn’t feel too heavy, the straps balanced things out well on my head.\\xa0Ultimately, I was happy with it.\\nI can say that this probably won’t be the company’s breakthrough VR product, but it does showcase how steadily the company’s VR ambitions are starting to align. As someone who has spent a lot of time with the company’s hardware, I have often reluctantly found the games I’ve tried as moments to examine what is possible and what it groundbreaking rather than whether what I’m seeing is going to be something people want to buy as is.\\nMy 30 minutes or so today demoing the Oculus Go was one of the first glimpses I’ve had of a product from Oculus that is nearly ready to be purchased by normal people. I think a mass-market product is going to still need to have tracked controllers and a tracked headset, but that will happen in due time. The company’s “Santa Cruz” headset will likely be emerging next year and while it most definitely won’t arrive at the Go’s price point, eventually all of these features will drift down to the entry-level.\\nVR probably could’ve benefitted from playing a bit more of its early years in the shadows, but very few projects of Facebook keep a low profile. Things are finally shaping up a bit more though, and I think Oculus Go finally represents a product that feels more well put together than it doesn’t. My first impression is that it’s probably still a product for people who want to “try VR” rather than people who just want to get their moneys worth out of a gadget that they’ll use on a daily basis, but for $199, I think Oculus can still make a pretty convincing sell for this when it goes on sale sometime in the next few months.',\n",
       "  'title': 'First impressions of the $199 Oculus Go VR headset'},\n",
       " {'author': 'Matt Burns',\n",
       "  'crawled_at': '2018-03-22',\n",
       "  'date': '2018/03/21',\n",
       "  'text': 'The Tempe, Arizona police department have released a video showing the moments before the fatal crash that involved Uber’s self-driving car. The video includes the view of the street from the Uber  and a view of minder behind the wheel of the autonomous Uber.\\nWarning: This video is disturbing.\\n\\n\\nTempe Police Vehicular Crimes Unit is actively investigatingthe details of this incident that occurred on March 18th. We will provide updated information regarding the investigation once it is available. pic.twitter.com/2dVP72TziQ\\n— Tempe Police (@TempePolice) March 21, 2018\\n\\nThe video shows the victim crossing a dark street when an Uber self-driving Volvo XC90 strikes her at 40 mph. It also shows the person who is supposed to be babysitting the autonomous vehicle looking down moments before the crash. It’s unclear what is distracting the minder. It’s also unclear why Uber’s systems did not detect and react to the victim who was clearly moving across its range of sensors at walking speeds.\\nUber provided the following statement regarding the incident to TechCrunch:\\nOur hearts go out to the victim’s family. We are fully cooperating with local authorities in their investigation of this incident.\\nSince the crash on March 19, Uber has pulled all its vehicles from the roads operating in Pittsburgh, Tempe, San Francisco and Toronto. This is the first time an autonomous vehicle operating in self-driving mode has resulted in a human death. In a statement to TechCrunch, the NHTSA said it has sent over its “Special Crash Investigation” team to Tempe. This is “consistent with NHTSA’s vigilant oversight and authority over the safety of all motor vehicles and equipment, including automated technologies,” a spokesperson for the agency told TechCrunch.\\n“NHTSA is also in contact with Uber, Volvo, Federal, State and local authorities regarding the incident,” the spokesperson said. “The agency will review the information and proceed as warranted.”\\nToyota also paused its self-driving testing in the US following the accident.\\nThis tragic accident is the sort of situation self-driving vehicles are supposed to address. After all, these systems are supposed to be able to see through the dark and cannot get distracted by Twitter.',\n",
       "  'title': 'Video: The driver of the autonomous Uber was distracted before fatal crash'},\n",
       " {'author': 'Devin Coldewey',\n",
       "  'crawled_at': '2018-03-22',\n",
       "  'date': '2018/03/21',\n",
       "  'text': 'For the visually impaired, there are lots of accessibility options if you want to browse the web — screen readers, podcast versions of articles and so on. But it can still be a pain to keep up with your favorite publications the way sighted app users do. BrailleVoice is a project that puts the news in a touch-tone phone interface, reading you the latest news from your favorite publications (like this one) easily from anywhere you get a signal.\\nIt’s from SpaceNext, AKA Shan, who has a variety of useful little apps he’s developed over the years on his page — John wrote up one back in 2011. Several of them have an accessibility aspect to them, something that always piques my interest.\\n“Visually challenged users will find it difficult to navigate using apps,” he wrote in an email. “I thought with text to speech readily available… they would be able to make a call to a toll free number to listen to latest news from any site.”\\nAll you do is dial 1-888-666-4013, then listen to the options on the menu. TechCrunch is the first outlet listed, so hit 1# and it’ll read out the headlines. Select one (of mine) and it’ll jump right in. That’s it! There are a couple of dozen sites listed right now, from LifeHacker (hit 15#) to the Times of India (hit 26#). You can also suggest new sites to add, presumably as long as they have some kind of RSS feed. (This should be a reminder why you should keep your website or news service accessible in some like manner.)\\n“More importantly,” he continued, “this works even without internet even in the remotest of places. You can listen to your favorite news site without having to spend a dime or worry about internet.”\\nAssuming you can get a voice signal and you’ve got minutes, anyway. I quite like the idea of someone walking into the nearest town, pulling out their old Nokia, dialing this up and keeping up to date with the most news-addicted of us.\\nThe text to speech engine is pretty rudimentary, but it’s better than what we all had a few years back, and it’ll only get better as improved engines like Google’s and Apple’s trickle down for general purpose use. I’m going to ask them about that, actually.\\nIt’s quite a basic service, but what more does it need to have, really? Shan is planning to integrate voice controls into the likes of Google Home and Alexa, so there’s that. But as is it may be enough to provide plenty of utility to the vision-impaired. Check out TextOnly too. I could use that for desktop.',\n",
       "  'title': 'Get the latest TC stories read to you over the phone with BrailleVoice'},\n",
       " {'author': 'Mike Butcher',\n",
       "  'crawled_at': '2018-03-22',\n",
       "  'date': '2018/03/21',\n",
       "  'text': 'If you play hardcore and competitive games, you want to win, so it would be useful to have someone leaning over your shoulder giving you tips on how to play better. Someone who knows all your moves and behaviors, for instance.\\nThat’s the thinking behind Gosu.ai, which has developed an AI assistant to help gamers play smarter and improve their skills. It’s now raised a $1.9M funding round led by Runa Capital,  with participation from Ventech and existing investor, Sistema_VC. Previously, the startup was backed by Gagarin Capital, a new Silicon Valley-based early-stage VC firm focusing on AI investments, which invested in Prisma and MSQRD, which exited to Facebook and Google,  respectively.\\nGosu.ai provides tools and guidance for users to improve their skills in competitive games. It analyzes their matches and makes personal recommendations. It also helps players prep, suggesting gear sets, starting items and offering ideas on how to take on a particular opponent. The platform currently works with Dota 2, with plans to support CS:GO and PUBG in the near future.\\nThe company was founded by Alisa Chumachenko (pictured), who was the creator and former CEO of Game Insight, a big gaming world player. She says: “There are 2 billion gamers in the world now and 600 million of them play hardcore games, such as MOBAs, Shooters and MMOs. We can help those players reach their full potential with our AI assistants.”\\nGosu.ai’s main competitors are Mobalytics,  Dojomadness and Moremmr. But the main difference is that these competitors make analytics of raw statistics, and find the generalized weak spots in comparison with other players, giving general recommendations. Gosu.ai analyzes the specific actions of each player, down to the movement of their mouse, to cater direct recommendations for the player. So it’s more like a virtual assistant than a training platform.\\nIn addition, Gosu works in the B2B field, as well, by offering gaming companies a variety of AI tools, for example a predictive analytics.',\n",
       "  'title': 'AI game trainer Gosu.ai raises $1.9M to give gamers a virtual assistant'},\n",
       " {'author': 'Devin Coldewey',\n",
       "  'crawled_at': '2018-03-22',\n",
       "  'date': '2018/03/21',\n",
       "  'text': 'Facebook  is at the center of a dozen controversies, and outrage is peaking. The social network has failed again and again at expanding beyond a handful of core features. Doubts of its usefulness, and assertions of its uselessness, are multiplying. A crisis of confidence at multiple levels threatens the company’s structure and mission. Now is the time for Mark Zuckerberg to spare himself the infamy and resign — for Facebook’s sake and his own.\\nI’m not calling for his resignation, and I don’t say this out of any animus toward Zuckerberg; I personally believe him to be genuine and driven in his stated desire to connect the world — but likely increasingly frustrated by the unexpected consequences of this naive ambition and the haste with which he has pursued it. I just think that it has come to the point where the best way for him to advance that ambition is to leave.\\nThere are three major reasons why.\\nFacebook has failed\\nOf course, it’s also true that Facebook has succeeded beyond every expectation. But its success arrived early and remains essentially a simple thing: being a broadly accessible, functioning social network. A single network of friends, a basic news feed from them and a few adjunct capabilities were industry-defining ideas and to a certain point were executed quite well. Beyond that admittedly towering success, Facebook has accomplished remarkably little.\\nAttempts to make Facebook a ubiquitous social graph layer connecting all apps and services failed because consumers found it creepy, companies found it threatening to rely completely on the company for demographic data and tech was moving too quickly for the data Facebook had to be universally applicable. (Except, of course, in advertising, where it is evergreen.)\\nAttempts to make Facebook a gaming platform failed partly because the social aspect of gaming is radioactive, and partly because the attention economy produces really bad games. Repurposing an established community into a gaming one was a non-starter, and what’s left of the brief Facebook gaming flash in the pan is just an oily residue clinging to the side of the news feed.\\nAttempts to make Facebook a VR/AR powerhouse are ongoing, but that entire segment of tech has proven incredibly disappointing and eye-wateringly expensive for everyone involved. So far they’re a market leader in a market that seems to only exist for the purpose of swindling money out of investors. It’s too early to call it a complete boondoggle with certainty since Facebook is supposedly playing a longer game here, but it sure isn’t promising.\\nAttempts to improve messaging beyond the basics have failed; chatbots are of poor quality and largely pointless, in-chat games are novelties at best, business applications are politely declined and while aesthetic changes like stickers could make a little money in the short term, that’s not really the kind of thing that supports a global infrastructure.\\nAttempts to make Facebook a reliable news source ran into the many-headed hydra that is “objectivity” and everything that comes with it. Boy, they didn’t think that through. I’m not even going to get started on the ways it’s failed here.\\nAttempts to make Facebook an infrastructure provider have arguably so far failed as either abortive or fanciful. Free basics failed despite good intentions because the company has not earned the trust to be in that position. The laser-based Aquila internet glider is a wonderful science project but strikes me as something of a Spruce Goose situation: Underserved communities would be served better by, off the top of my head, grants offsetting large broadband providers’ advantages in infrastructure contracts, or just paying for laying fiber or building towers. (Later efforts at Internet.org have been more limited and practical and I applaud them.)\\nAttempts to make Facebook a media company failed (or are stumbling) for a multiplicity of reasons: strong and agile competitors, a lack of focus, too many ads, incompatibility with the like economy.\\nAttempts to branch out on mobile have failed, though none very spectacularly — which is almost a failure in itself. The main app is of course fabulously popular, as is Instagram. Only by paying a billion dollars and literally subtracting a fundamental feature from the original app were they able to increase the number of icons on most phones.\\nAttempts to make Facebook cool have failed almost from the beginning. I hesitate to go so far as to define coolness, but I will say that it’s generally thought to be incompatible with ubiquity. They bought some cool with Instagram, but the shine is starting to wear off that one.\\nThis litany of failures (by no means comprehensive, and of course there have been minor successes, too) is also conspicuously a list of things Zuckerberg has personally set his sights on. Over and over he has said, “this is what we’re going to do.” And then they don’t do it — not really. A cash infusion and a bit of borrowed momentum from the ongoing original success of the basic social network, and each effort begins with a semblance of self-propulsion. But all of them have lost steam as Facebook failed to follow through, mindlessly followed through on the wrong thing or just moved on to the next target.\\nAs founder and CEO, Zuckerberg should by all means take substantial credit for the initial success of the platform. But he also has to take responsibility for the laundry list of botched attempts to do much more than provide the basic service people valued since the earliest days.\\nBy no means is he alone in this type of failure, by the way: All the tech giants have products and phases they’d rather not speak of or, though they might refuse to acknowledge it, have been crushing defeats. But Zuckerberg is on his own in the level of personal ownership he has tried to exert over these numerous misadventures.\\nFacebook is not about connecting the world\\nIt’s become clear over the years that Facebook left its original mission statement behind a long, long time ago.\\nFifteen years back, perhaps even 10 or 5, Facebook was just what we needed. But the world has changed, the way we interact with technology and each other has changed and Facebook hasn’t. The platform’s greatest failure isn’t any of those side projects listed above; it’s the failure to evolve its core product to succeed by its own metrics of quality time and meaningful connection.\\nFacebook started as a rough approximation of sharing your life with a group of friends. But as its scope has increased, this approximation has been found to be increasingly inadequate. What’s also become clear is that Facebook has been working hard to redefine how people interact online to fit better with its own limited capabilities. Faced with the square peg of human interactions and the round hole (the image of a pit is inescapable) of Facebook’s news feed and algorithms, they decided it was the former that needed modification.\\nThe root of that is simple: Fitting Facebook to the people’s needs is not as lucrative as vice versa. Facebook runs on ads, and ads run on eyeballs. That’s the business model that has dominated the last decade or so — well, the last couple of centuries really, but in its current form, 10-15 years. Facebook has been one of the most successful practitioners of it because, as they never tire of telling their customers (that is to say, advertisers), they know things about us that others don’t. Important things. This is, as I mentioned earlier, the one place where its troves of seemingly trivial data add up.\\nFacebook is not a platform for connecting people, it’s a platform for monetizing the connections they make on their own. The company simply doesn’t prioritize the quality of these connections themselves in any meaningful way — nor, I think, can it. That’s probably a realization they reached early on. These flailing attempts to grow appendages were always just ways to multiply the number of superficial connections and train users to conflate constant, convenient updates with meaningful interactions.\\nThe parallel track to this is on the sales and advertising side, where Facebook has repeatedly been cavalier with the data it has been entrusted with and selectively honest with the users from which it was sourced. People have stopped trusting it, if they ever really did. No one believes its executives when they say things about quality time, and respecting your data and so on. Some of them may be sincere — but it doesn’t matter.\\nThe work that needs to be done to connect the world can’t be done by an entity as compromised as Facebook; it’s just the wrong tool for the job. Zuckerberg’s mission to connect the world isn’t happening the way he planned and it isn’t going to happen. Ironically, it was the success of his own vision that demonstrated the limits of that vision.\\nThe time is right for him and for the company\\nFacebook has grown big enough that it was never going to be free from controversy. But for the last few years there seems to have been a constant hum of disappointment from practically every quarter, every demographic, every customer, every country and regulator.\\nDuring the tumultuous last year, the fundamental idea of advertising on Facebook based on hidden character traits has been shown to be an insidious, easily abused practice. It responded much as its big tech colleagues have: affect shock, assure users this was never intended and promise action. Zuckerberg, who is politically active and of course deeply involved in all the operations at Facebook, has been almost completely silent.\\nHe has occasionally addressed such controversies. But more often than not he has offered little more than lip service, lines so tired —\\xa0“at Facebook we take this very seriously,” for instance — that they’ve become parody. As I was writing, in fact, he did exactly this. “I’m serious about doing what it takes to protect our community” were his exact words.\\nBut not just those words!\\n“I started Facebook, and at the end of the day I’m responsible for what happens on our platform,” he wrote.\\nThe exact form this responsibility takes is not specified. But the best thing for him to do would be resign.\\nI don’t mean instantly — that would be chaos. But soon. Think about it: it’s really the best thing for everyone.\\nFor Facebook, it’s a get-out-of-jail-free card. Zuckerberg can easily take a lot of the heat being pointed at the company right now, since as he says he is responsible for what happened. He can shield loyal employees and executives who really were likely doing his bidding. He could do a junket of Congress, the FTC, a few courts and so on to express his personal responsibility for the actions and to beg people to understand that Facebook should not be held to be synonymous with his mistakes of many years. Meanwhile at the company there would be carte blanche for reinvention, reversing years-old policies, admitting faults.\\nFor users, it’s a nice clean break and a new hope for the platform. For a long time people have rolled their eyes at the promises of change, and seen mainly aimless algorithm tweaks and failed attempts to imitate competitors. The election debacle and this ongoing Cambridge Analytica situation are just the latest problem to appear; user faith is long since eroded, and many more would leave if not for some strong network effects binding them to the platform. For Zuckerberg, the avatar and origin of all of Facebook’s many mistakes (and of course successes) to personally step aside is meaningful change, and may lead to meaningful change at the platform level. At the very least even skeptical users like myself would be curious to see how it all plays out.\\nFor Zuckerberg, this could be the best thing that ever happened to him. The optics are great — brave and idealistic young CEO sacrifices himself so that the company can live on. And it’s not like he doesn’t have another life waiting for him. How does retiring in your early 30s with billions in the bank, spending a year or two with your wife and young daughter, then reemerging to dedicate yourself full-time to your philanthropic causes sound? The Chan-Zuckerberg Initiative and Internet.org could help more people in more meaningful ways than Facebook ever could. It might even be time to grow a nice beard.\\nI don’t think he’s really going to do it, of course (resign, that is — he may still grow a beard). At the risk of sounding like an armchair psychiatrist, his ego identifies too strongly with Facebook. Separating himself from it would be traumatic, perhaps impossible. Furthermore, my pessimistic view of Facebook’s works would be more than balanced by his own optimistic view. If he read this I doubt he would agree with much I’ve written.\\nAll the same, I don’t think he will ever have a better chance to leave than this, and he may in the near future wish he had bowed out around now. Free of Zuckerberg, Facebook might blossom anew or it might wither; but most damningly of all, its users probably won’t care either way.',\n",
       "  'title': 'Now would be a good time for Mark Zuckerberg to resign'},\n",
       " {'author': 'Megan Rose Dickey',\n",
       "  'crawled_at': '2018-03-22',\n",
       "  'date': '2018/03/21',\n",
       "  'text': 'Twitter  Chief Information Security Officer Michael Coates is leaving the company, The Verge first reported.\\xa0Word on the street is that Coates is leaving to start his own security company.\\n\\n\\nTwitter has been an amazing ride, but as I mentioned internally a few weeks back, my time is coming to an end. I’m confident to leave the program with an amazing security team. What’s next? I’m off to co-found a security startup – hope to share more about what we’re doing soon!\\n— Michael Coates (@_mwc) March 21, 2018\\n\\nCoates has reportedly been replaced on an interim basis by Joseph Camileri, a senior manager for information security and risk.\\nThis comes following the impending and rumored departures of other high-level security officers at Google and Facebook.\\nYesterday, Google Director of Information Security Engineering Michael Zelewski announced\\xa0his upcoming departure on Twitter. With Facebook, there were reports that CSO Alex Stamos was leaving his role, but that seems to not be true. Instead, Stamos said\\xa0his role is simply changing to focus more on election security and emerging security risks.\\nWhen reached for comment, Twitter directed me to Coates’ tweet.',\n",
       "  'title': 'Twitter’s chief information security officer is reportedly quitting'},\n",
       " {'author': 'Josh Constine',\n",
       "  'crawled_at': '2018-03-22',\n",
       "  'date': 'gallery/yc-demo-day-top-startups-2018/',\n",
       "  'text': 'Microbiome pills, gambling for one-on-one video games and potential cancer cures were the highlights from legendary startup accelerator Y Combinator’s Winter 2018 Demo Day 2. You can\\xa0read about all 64 startups that launched on Day 1\\xa0in verticals like biotech and robotics, our picks for the top 7 companies from Day 1 and our\\xa0full coverage of another 64 startups from Day 2. TechCrunch’s writers huddled and took feedback from investors to create this list, so\\xa0click (web) or scroll (mobile) to see our 8 picks for the top startups from Day 2.\\nAdditional reporting by Greg Kumparak, Lucas Matney and Katie Roof',\n",
       "  'title': 'Our 8 favorite startups from Y Combinator W18 Demo Day 2'},\n",
       " {'author': 'Anthony Ha',\n",
       "  'crawled_at': '2018-03-22',\n",
       "  'date': '2018/03/21',\n",
       "  'text': 'We’ve described Burrow as a startup that\\xa0brings a Casper-style approach to sofas, so perhaps it’s no surprise that the company has raised funding from one of Casper’s investors.\\nBurrow  is announcing a $14 million Series A led by New Enterprise Associates. Correlation Ventures also participated in the round, as did previous investors Red & Blue Ventures and Y Combinator Continuity. (The startup went through the YC accelerator back in 2016.)\\nWhen Burrow\\xa0raised a $4.3 million seed round at the end of last year, it said it was growing 20 percent each month, and its manufacturing facilities had just moved from Mexico City to Mississippi.\\nBurrow’s Stephen Kuhl said that after a successful 2017, he and his co-founder Kabeer Chopra decided to start fundraising again at the end of January. One of their big goals was to enlist NEA’s Tony Florence — who also backed Casper and Jet.com. Now, Florence is joining Burrow’s board of directors.\\n“Direct-to-consumer commerce is an increasingly important category, particularly in verticals that have seen little innovation in the way products are built, marketed and distributed,” Florence said in an emailed statement. “The furniture market is ripe for disruption, and Burrow can deliver the quality, value, and convenience that consumers demand from ecommerce shopping experiences. We’re excited to partner with Stephen and his team as they tackle this tremendous opportunity.”\\nThe startup’s main product is a sofa with a modular design, making it easy to move and adjust in different living spaces. (You can buy it in one- to four-seat configurations, with the three-seater currently priced at $1,095.) The modules are delivered in relatively compact boxes, and assembly is only supposed to take 10 minutes, with no tools required.\\nThe lineup has expanded to include an ottoman and a chaise sectional couch, and Burrow also recently added the option to include wooden legs.\\nKuhl told me the new funding will allow Burrow to hire aggressively, open additional factories and introduce new, non-sofa products — the plan is to turn the company into “an entire home lifestyle brand.”\\n“We want to be known for not making people compromise,” he added. “Whether it’s price, quality, convenience, experience, comfort — any of those things, we want to provide the best overall experience.”',\n",
       "  'title': 'Modular sofa startup Burrow raises $14M'},\n",
       " {'author': 'Taylor Hatmaker',\n",
       "  'crawled_at': '2018-03-22',\n",
       "  'date': '2018/03/21',\n",
       "  'text': 'We knew Jack Dorsey  was bullish on bitcoin, but some new quotes reveal that he’s really,\\xa0really bullish.\\nIn an interview with The Times of London, the Twitter and Square chief executive expressed a strong belief in bitcoin’s shot at outliving its growing pains in order to grow into a ubiquitous digital currency.\\n“The world ultimately will have a single currency, the internet will have a single currency. I personally believe that it will be bitcoin,” Dorsey said. He added that the timeline would play out “probably over ten years, but it could go faster.”\\nIn spite of conceding that bitcoin “does not have the capabilities right now to become an effective currency,” Dorsey thinks that it will grow into a better one over time as improvements to the core technology roll out.\\n“It’s slow and it’s costly, but as more and more people have it, those things go away. There are newer technologies that build off of blockchain  and make it more approachable,” Dorsey told The Times.\\nJust last week, Dorsey contributed to a $2.5 million seed round for Lightning Labs, a Bay Area startup focused on the Lightning Network, a protocol that layers on top of a cryptocurrency like bitcoin. That layer aims to speed things up by creating a secondary channel with its own mini digital ledger that keeps excess traffic off of a congested blockchain (you can read more about how that works in this helpful Coindesk explainer).\\nDorsey also intends to continue supporting bitcoin through Square, his mobile payments company. Square Cash added support for bitcoin last year and the feature recently rolled out to all Square Cash users.',\n",
       "  'title': 'Jack Dorsey believes bitcoin will be the world’s sole currency within 10 years'},\n",
       " {'author': 'Matthew Lynley',\n",
       "  'crawled_at': '2018-03-22',\n",
       "  'date': '2018/03/21',\n",
       "  'text': 'Uber  appeared set to hire Assaf Ronen, the former vice president of Amazon’s  voice and natural user interface shopping, to lead its products — but it looks like that isn’t going to happen due to a discrepancy in his working history, according to Recode.\\nUber discovered a discrepancy related to his tenure at Amazon, where the company appeared to be under the assumption he was working at Amazon at the time of offering him the job, and rescinded its offer, according to Recode. Ronen had actually left Amazon at the very end of 2017 and was not actually working at Amazon at the time, according to Recode, which posted a memo of new CEO Dara Khosrowshahi’s explanation of what happened. Ronen was brought in to take over the lead product role following the departure of former Twitter product lead and Google Maps exec Daniel Graf.\\nSince taking over, Khosrowshahi has tried to distance himself from the Uber under former CEO Travis Kalanick . Often times, CEOs will tell you that their number-one job is recruiting. Twitter CEO Jack Dorsey has mentioned it on a quarterly earnings call at least once a year for the past three years, for example, usually something to the extent of “my primary focus is on recruiting.” That’s obviously going to be a big tenet that will determine Khosrowshahi’s vision for the company and, ultimately, his legacy.\\nCurrent product VP Manik Gupta will be running the company’s product operations in the mean time, according to the memo obtained by Recode. Ronen would have been a marquee hire for Uber, but as the company has gone through a myriad of blunders under Kalanick, in addition to one of its autonomous vehicles being involved in an accident with a pedestrian on Monday, it looks like Uber is facing another hiccup in its turnaround at the top.\\nWe reached out to Uber for additional comment and will update the story when we hear back.',\n",
       "  'title': 'Uber has reportedly rescinded its job offer for the Amazon exec that was its potential product lead'},\n",
       " {'author': 'Danny Crichton',\n",
       "  'crawled_at': '2018-03-22',\n",
       "  'date': '2018/03/21',\n",
       "  'text': 'It’s been almost 18 months since the boards of AT&T and Time Warner unanimously voted to sign an agreement to merge their two companies and create a content and distribution powerhouse. That deal, pegged at $108 billion including debt from Time Warner, would be among the largest corporate mergers in American history. The U.S. Department of Justice sued to block the deal this past November, and now after long last, the antitrust trial that will determine the deal’s fate is about to start tomorrow with opening statements, following a snow delay today in Washington, DC.\\nThis case is sprawling — the Justice Department intends to present 519 exhibits already — and much of the case will hinge on technical legal minutia. However, at its heart is a critical question of whether a combination of AT&T and Time Warner would help or hurt competition and thus ultimately consumer welfare.\\nThis is a very important case to understand, because the court will have to reach a nuanced understanding of antitrust law in the complex and deeply interconnected world of video services. The decision rendered here could drastically affect consumer choice, as well as the business practices of companies across the tech industry.\\nA framework to understand antitrust\\nBefore getting into the specifics of AT&T-Time Warner  though, we need to understand how antitrust works — which is quite a bit more nuanced than the media generally describes.\\nThe essential goal of antitrust regulations is to protect consumers from predatory business practices driven by companies that hold outsized market power. While companies can grow market power over time (think a fast-growing startup eating more and more market share), the reality is that the U.S. government by and large avoids using antitrust to target a company in the normal operation of its business (Microsoft back in the 1990s being a notable exception).\\nInstead, the Federal Trade Commission and the Department of Justice directs its attention to mergers and acquisitions as key decision points where it can review a transaction and determine whether the combined company helps or hurts competition. Companies conducting transactions must submit documentation to antitrust bodies as part of what is known as the HSR process.\\nMergers are generally divided into two categories. The first is a horizontal merger, which is when two direct competitors join forces and merge — think Uber and Lyft hypothetically. The other form is a vertical merger, which is when two companies with related businesses come together in order to offer a more comprehensive and synergistic set of services in their product market.\\nIn reviewing these transactions, the FTC’s goal is to increase competition and improve consumer welfare in all industries. Horizontal mergers are generally placed under strong scrutiny, since by definition, removing a competitor from a marketplace reduces competition (although there are exceptions).\\nHere is where the nuance starts to become more pronounced. The FTC generally views vertical mergers more positively, since combining related companies can reduce costs, which ultimately improves consumer welfare.\\nIn a speech earlier this year, Bruce Hoffman, the acting director of the Bureau of Competition at the FTC, explained vertical merger theory and why the FTC generally looks more favorably on the practice:\\nAs compared to arm’s-length contracting, a vertically integrated firm can more readily realize efficiencies in the form of lower costs or improved quality, conditions that greatly benefit customers of the firm. In addition, vertical mergers can eliminate the problem of “double markup,” which occurs when two firms, each with market power over a complementary product, set prices independently. Due to the problem of double markup, separate price setting leads to higher prices and lower levels of output. A vertical merger of these two firms allows for joint price setting over the two products, which leads to higher profits but also increased output. These built-in effects, while not necessarily large or dispositive in all cases, render the starting point for our analysis of vertical mergers more challenging than horizontal mergers.\\nThe FTC may look more favorably upon vertical mergers, but that doesn’t mean it always supports them. Hoffman noted in his speech that the FTC has fought 22 vertical mergers since 2000. He indicates three typical concerns: that the merged companies can block new competitors, that they can foreclose competitors from customers or key inputs, and that they may have confidential information that allows them to compete with competitors unfairly. Each of these may be a reason to either block a transaction, or to demand changes or ongoing monitoring of a merger.\\nSo to review, the FTC doesn’t care about size per se — it isn’t against consolidation, and in fact, may favor consolidation in cases where the newly merged company can be a more effective competitor in the marketplace and therefore increase consumer welfare.\\nAntitrust and AT&T-Time Warner\\nWith that framework in mind, AT&T-Time Warner becomes much more complicated. The video production and distribution industry is oligopolistic — there are a handful of major studios, channels, distributors and platforms in the industry that drive most of the value here. Balancing those competing interests against each other is the best route toward maximizing competition and therefore consumer welfare.\\nThe players in this space are some of the largest companies in the world. Through DirecTV, AT&T is the largest multichannel video programming distributor (MVPD) in the U.S. with 25 million subscribers, and, of course, it is the largest telecom company in the world. Time Warner is one of the most powerful content producers in the U.S., owning channels like TBS and TNT, premium subscription services like HBO, as well as Warner Bros, which is one of the largest and most profitable movie studios.\\nThe two companies may be powerful, and combining them will only heighten those powers. However, they are facing incredible headwinds from the technology industry, namely the so-called FAANG group of internet giants: Facebook, Apple, Amazon, Netflix  and Google (and by extension, YouTube). Every single one of these companies has made video a top priority, and their war chests and valuations are similarly powerful.\\nAs the counsel for AT&T-Time Warner pointed out in trial,\\xa0according to CNNMoney, “Petrocelli told Judge Leon that their estimates show FAANG is worth $3 trillion collectively, while an AT&T-Time Warner entity post-merger would be worth $300 billion. ‘We’re chasing their tail lights,’ Petrocelli said.”\\nGiven that industry context, the critical question then is whether combining AT&T and Time Warner would help consumer choice in the video industry by allowing the two companies to more effectively compete as equals with the internet giants, or whether it would use its assets to leverage additional fees from competitors, and ultimately suck its competitors dry by forcing more customers on to its platforms, thereby limiting consumer choice.\\nThe Department of Justice is clearly arguing the latter. There are a couple of considerations. In the government’s favor, Time Warner owns the assets to several critical live sports and news organizations, including the NBA, MLB, NCAA men’s basketball tournament (i.e. March Madness) and the PGA, along with CNN and associated networks. This live programming is increasingly valuable for distributors, because viewers watch ads and also perceive the content to have scarcity.\\nTherefore, such programming is considered “must have” for distributors, so Time Warner is able to charge a premium for access. If AT&T and Time Warner merged, the fear is that they would raise prices on this sort of critical content, forcing its competitors to increase prices to retain carriage rights. AT&T could keep the prices of its own distribution level (they own the content after all), which would make its services more attractive to consumers. Ultimately, that limits consumer choice.\\nAnother factor in favor of the government, particularly since December when the FCC repealed net neutrality, is that AT&T, as a major mobile telecom provider, will have significant power to control the quality of service that customers of the internet giants will experience. AT&T could throttle Netflix, for instance, unless Netflix buys Turner-produced content. A merger gives the company more market power, and that would likely cause price increases in the industry.\\nThe government doesn’t have a simple case to make, though. A factor in favor of AT&T-Time Warner is that its content costs are increasingly being dwarfed by the internet giants. Time Warner’s HBO segment spent $2.2 billion in 2017 according to the company’s 10-K form, compared to more than $6 billion dollars by Netflix in the same time period. Turner, the segment that includes TBS and TNT, spent $4.46 billion.\\nIn other words, Netflix is spending almost as much money as Time Warner as a whole does, and also owns its customers through its streaming subscription model. Add in large original content budgets from Google, Apple and Amazon, and suddenly Time Warner looks like a (relatively) small fish in a very large pond.\\nAnother point in favor of the merger is that the government allowed Comcast’s acquisition of NBC to go through, albeit with restrictions on the deal and active monitoring. As Hoffman of the FTC said in January though, “…we prefer structural remedies — they eliminate both the incentive and the ability to engage in harmful conduct, which eliminates the need for ongoing intervention.” Structural remedies here means divestitures or an outright block, as opposed to active monitoring requiring the DOJ to continually work with a company to ensure compliance.\\nThese are just some of the points that both sides are going to argue over the next six to eight weeks in district court. The court will have to decide how consumers are going to fare in a merger scenario and whether they are better off with or without it.\\nIn my view, the merger is unlikely to be favorable to consumers, given the history of similar mergers in the past, AT&T’s business actions in recent years and the generally positive business models of Netflix and other online streaming services with their convenience and efficiency for consumers.\\nThe caveat is that the internet giants are just that — giants, and their continued growth means that fewer and fewer companies can compete with them in these markets. Allowing AT&T-Time Warner to go through may limit competition today, but that may already happen in the future if Time Warner falls behind its content competitors.\\nUnfortunately, markets are dynamic, while the conclusion of tomorrow’s case is a static decision in a point of time. While the future may be hard to predict, it seems unlikely that FAANG’s aspirations are going to diminish, and their consolidation may limit what little competition exists in this space. On balance, the court should probably say no, but that decision may well have been different a year or two from now.\\nAs Judge Leon, who is overseeing the case, said this week quoted by CNNMoney, “I always tell people at parties, I don’t have a crystal ball. In this case I have to get a crystal ball! Maybe at one of those second-hand stores somewhere!” Let’s hope that crystal ball is very good indeed.',\n",
       "  'title': 'The nuanced challenges of antitrust and AT&T-Time Warner'},\n",
       " {'author': 'Taylor Hatmaker',\n",
       "  'crawled_at': '2018-03-22',\n",
       "  'date': '2018/03/21',\n",
       "  'text': 'It might be a snow day in Washington, but the Senate Intelligence Committee hearing on election system security continued as planned. During Wednesday’s hearing, Homeland Security Secretary Kirstjen Nielsen  and her predecessor Jeh Johnson appeared with a panel of state election officials to hash out the recommendations issued by the committee on Tuesday.\\n“This issue is urgent,” said Senate Intel Chairman Richard Burr in his opening statements. “If we start to fix these problems tomorrow, we still might not be in time to save the system for [2018] and 2020.”\\nThe hearing often turned to what broke down during the 2016 election, describing the kind of measures and policies that need to be put in place to allow federal and state officials to communicate smoothly around future threats, including the established threat from Russia. We learned last year that Russia targeted election systems in at least 21 states. Many members of the committee expect other U.S. adversaries to adopt that same model around known vulnerabilities.\\n“Despite evidence of interference, the federal government and the states had barely communicated about strengthening our defenses,” said Senate Intel Vice Chair Mark Warner. “It was not until the fall of 2017 that DHS even fully notified the states they had been potential targets.”\\nSo what’s changing?\\nFor one, Homeland Security won’t let coordinating the security clearances for as many as 150 relevant state election officials get in the way of handing down important election system intelligence. Only 20 officials out of that 150 number have that clearance now.\\n“We’ve worked out the processes whereby if we have actionable information we will provide it to the state and local officials on a day read-in so we are not letting the lack of clearance hold us back,” Nielsen said. “If we have information to share with them in respect to a real threat, we will do so.”\\nAccording to Amy Cohen, executive director of the National Association of State Election Directors, an organization that brings together election officials in all 50 states, states have made “great strides” since the former DHS secretary designated all election systems as critical infrastructure in January of 2017.\\nStates that may have been nervous about federal overreach after the critical infrastructure designation (which applied to all aspects of federal state and local elections including polling places, storage facilities, voter registration databases and the voting machines themselves) seem to be warming up to and opting into the “technical resources” that Homeland Security has on offer. As of today, more than half of the states have signed up for Homeland Security’s optional cybersecurity audits. That program helps states identify potential system vulnerabilities and makes recommendations based on its findings.\\n“To be clear, there has been a learning curve on the sharing of information,” Nielsen said. One challenge is understanding how states vary in operating and organizing their elections. For example, an election that would be run by a county in one state might be the domain of the governor or the secretary of state’s office in another.\\n“Today I can say with confidence that we know whom to contact in every state to share threat information,” Nielsen said. “That did not exist in 2016.”\\nWhile Homeland Security and the states have made progress since the 2016 election, those improvements are incremental and uneven. State budgets vary and some rely more heavily on federal funds for required steps for securing their elections, like purging insecure election machines and purchasing new machines that leave an auditable paper trail. Many states are currently undertaking the steps necessary to get their election systems up to Homeland Security’s recommended standards, even as U.S. adversaries likely continue to probe existing systems for cyber weaknesses.\\n“The threat of interference remains,” Nielsen admitted. “We recognize that the 2018 midterm and future elections are clearly potential targets for Russian hacking attempts.”',\n",
       "  'title': 'To protect election systems from hacking, states are getting cozier with Homeland Security'},\n",
       " {'author': 'Matthew Panzarino',\n",
       "  'crawled_at': '2018-03-22',\n",
       "  'date': '2018/03/21',\n",
       "  'text': 'It’s moved beyond tradition and into the realm of meme that Apple manages to dominate the news cycle around major industry events, all while not actually participating in said events. CES rolls around and every story is about HomeKit or its competitors; another tech giant has a conference and the news is that Apple  updated some random subsystem of its ever-larger ecosystem of devices and software.\\nThis is, undoubtedly, planned by Apple in many instances. And why not? Why shouldn’t it own the cycle when it can — it’s only strategically sound.\\nThis week, the 2018 Game Developers Conference is going on and there’s a bunch of news coverage about various aspects of the show. There are all of the pre-written embargo bits about big titles and high-profile indies, there are the trend pieces and, of course, there’s the traditional ennui-laden “who is this event even for” post that accompanies any industry event that achieves critical mass.\\nBut the absolute biggest story of the event wasn’t even at the event. It was the launch of Fortnite and, shortly thereafter, PlayerUnknown’s Battlegrounds on mobile devices. Specifically, both were launched on iOS, and PUBG hit Android  simultaneously.\\nThe launch of Fortnite, especially, resonates across the larger gaming spectrum in several unique ways. It’s the full and complete game as present on consoles, it’s iOS-first and it supports cross-platform play with console and PC players.\\nThis has, essentially, never happened before. There have been stabs at one or more of those conditions on experimental levels, but it really marks a watershed in the games industry that could serve to change the psychology around the platform discussion in major ways.\\xa0\\nFor one, though the shape of GDC has changed over the years as it relates to mobile gaming, it’s only recently that the conference has become dominated by indie titles that are mobile centric. The big players and triple-A console titles still take up a lot of air, but the long tail is very long and mobile is not synonymous with “casual gamers” as it once was.\\n“I remember the GDC before we launched Monument Valley,” says Dan Gray of Monument Valley 2 studio ustwo. “We were fortunate enough that Unity offered us a place on their stand. Nobody had heard of us or our game and we were begging journalists to come say hello, it’s crazy how things have changed\\xa0in four years. We’ve now got three speakers at the conference this year, people stop you in the street (within a two-block radius) and we’re asked to be part of interviews like this about the future of mobile.”\\nZach Gage, the creator of SpellTower, and my wife’s favorite game of all time, Flipflop Solitaire, says that things feel like they have calmed down a bit. “It seems like that might be boring, but actually I think it’s quite exciting, because a consequence of it is that playing games has become just a normal thing that everyone does… which frankly, is wild. Games have never had the cultural reach that they do now, and it’s largely because of the App Store and these magical devices that are in everyone’s pockets.”\\n\\nAlto’s Odyssey is the followup to Snowman’s 2015 endless boarder Alto’s Adventure. If you look at these two titles, three years apart, you can see the encapsulation of the growth and maturity of gaming on iOS. The original game was fun, but the newer title is beyond fun and into a realm where you can see the form being elevated into art. And it’s happening blazingly fast.\\n“There’s a real and continually growing sense that mobile is a platform to launch compelling, artful experiences,” says Snowman’s Ryan Cash. “This has always been the sentiment among the really amazing community of developers we’ve been lucky enough to meet. What’s most exciting to me, now, though, is hearing this acknowledged by representatives of major console platforms. Having conversations with people about their favorite games from the past year, and seeing that many of them are titles tailor-made for mobile platforms, is really gratifying. I definitely don’t want to paint the picture that mobile gaming has ever been some sort of pariah, but there’s a definite sense that more people are realizing how unique an experience it is to play games on these deeply personal devices.”\\nMobile gaming as a whole has fought since the beginning against the depiction that it was for wasting time only, not making “true art,” which was reserved for consoles or dedicated gaming platforms. Aside from the “casual” versus “hardcore” debate, which is more about mechanics, there was a general stigma that mobile gaming was a sidecar bet to the main functions of these devices, and that their depth would always reflect that. But the narratives and themes being tackled on the platform beyond just clever mechanics are really incredible.\\n\\nPlaying Monument Valley 2 together with my daughter really just blew my doors off, and I think it changed a lot of people’s minds in this regard. The interplay between the characters and environment and a surprisingly emotional undercurrent for a puzzle game made it a breakout that was also a breakthrough of sorts.\\n“There’s so many things about games that are so awesome that the average person on the street doesn’t even know about,” says Gray. “As small developers right now we have the chance to make somebody feel a range of emotions about a video game for the first time, it’s not often you’re in the right place at the right time for this and to do it with the most personal device that sits in your pocket is the perfect opportunity.”\\nThe fact that so many of the highest-profile titles are launching on iOS first is a constant source of consternation for Android users, but it’s largely a function of addressable audience. \\nI spoke to Apple VP Greg Joswiak about Apple’s place in the industry. “Gaming has always been one of the most popular categories on the App Store,” he says. A recent relaunch of the App Store put gaming into its own section and introduced a Today tab that tells stories about the games and about their developers. \\nThat redesign, he says, has been effective. “Traffic to the App Store is up significantly, and with higher traffic, of course, comes higher sales.”\\n“One thing I think smaller developers appreciate from this is the ability to show the people behind the games,” says ustwo’s Gray about the new gaming and Today sections in the App Store. “Previously customers would just see an icon and assume a corporation of 200 made the game, but now it’s great we can show this really is a labor of love for a small group of people who’re trying to make something special. Hopefully this leads to players seeing the value in paying up front for games in the future once they can see the craft that goes into something.”\\nSnowman’s Cash agrees. “It’s often hard to communicate the\\xa0why\\xa0behind the games you’re making — not just what your game is and does, but how much went into making it, and what it could mean to your players. The stories that now sit on the Today tab are a really exciting way to do this; as an example, when\\xa0Alto’s Odyssey\\xa0released for pre-order, we saw a really positive player response to the discussion of the game’s development. I think the variety that the new App Store encourages as well, through rotational stories and regularly refreshed sections, infuses a sense of variety that’s great for both players and developers. There’s a real sense I’m hearing that this setup is equipped to help apps and games surface, and stayed surfaced, in a longer term and more sustainable way.”\\nIn addition, there are some technical advantages that keep Apple ahead of Android in this arena. Plenty of Android devices are very performant and capable in individual ways, but Apple has a deep holistic grasp of its hardware that allows it to push platform advantages in introducing new frameworks like ARKit. Google’s efforts in the area with ARCore are just getting started with the first batch of 1.0 apps coming online now, but Google will always be hamstrung by the platform fragmentation that forces developers to target a huge array of possible software and hardware limitations that their apps and games will run up against. \\nThis makes shipping technically ambitious projects like Fortnite on Android as well as iOS a daunting task. “There’s a very wide range of Android devices that we want to support,” Epic Games’ Nick Chester told\\xa0Forbes. “We want to make sure Android players have a great experience, so we’re taking more time to get it right.“\\nThat wide range of devices includes an insane differential in GPU capability, processing power, Android version and update status. \\n“We bring a very homogenous customer base to developers where 90 percent of [devices] are on the current versions of iOS,” says Joswiak. Apple’s customers embrace those changes and updates quickly, he says, and this allows developers to target new features and the full capabilities of the devices more quickly. \\nRyan Cash sees these launches on iOS of “full games” as they exist elsewhere as a touchstone of sorts that could legitimize the idea of mobile as a parity platform. \\n“We have a few die-hard Fortnite players on the team, and the mobile version has them extremely excited,” says Cash. “I think more than the completeness of these games (which is in and of itself a technical feat worth celebrating!), things like Epic’s dedication to cross-platform play are massive. Creating these linked ecosystems where players who prefer gaming on their iPhones can enjoy huge cultural touchstone titles like Fortnite alongside console players is massive. That brings us one step closer to an industry attitude which focuses more on accessibility, and less on siloing off experiences and separating them into tiers of perceived quality.”\\n“I think what is happening is people are starting to recognize that iOS devices are everywhere, and they are the primary computers of many people,” says Zach Gage. “When people watch a game on Twitch, they take their iPhone out of their pocket and download it. Not because they want to know if there’s a mobile version, but because they just want the game. It’s natural to assume that these games available for a computer or a PlayStation, and it’s now natural to assume that it would be available for your phone.”\\nUstwo’s Gray says that it’s great that the big games are transitioning, but also cautions that there needs to be a sustainable environment for mid-priced games on iOS that specifically use the new capabilities of these devices.\\n“It’s great that such huge games are transitioning this way, but for me I’d really like to see more $30+ titles designed and developed specifically for iPhone and iPad as new IP, really taking advantage of how these devices are used,” he says. “It’s definitely going to benefit the App Store as a whole, but It does need to be acknowledged, however, that the way players interact with console/PC platforms and mobile are inherently different and should be designed accordingly. Session lengths and the interaction vocabulary of players are two of the main things to consider, but if a game manages to somehow satisfy the benefits of all those platforms then great, but I think it’s hard.”\\nApple may not be an official sponsor of GDC, but it is hosting two sessions at the show, including an introduction to Metal 2, its rendering pipeline, and ARKit, its hope for the future of gaming on mobile. This presence is exciting for a number of reasons, as it shows a greater willingness by Apple to engage the community that has grown around its platforms, but also that the industry is becoming truly integrated, with mobile taking its rightful place alongside console and portable gaming as a viable target for the industry’s most capable and interesting talent.\\n“They’re bringing the current generation of console games to iOS,” Joswiak says, of launches like Fortnite and PUBG, and notes that he believes we’re at a tipping point when it comes to mobile gaming, because mobile platforms like the iPhone and iOS offer completely unique combinations of hardware and software features that are iterated on quickly. \\n“Every year we are able to amp up the tech that we bring to developers,” he says, comparing it to the 4-5 year cycle in console gaming hardware. “Before the industry knew it, we were blowing people away [with the tech]. The full gameplay of these titles has woken a lot of people up.”',\n",
       "  'title': 'Mobile gaming is having a moment, and Apple has the reins'},\n",
       " {'author': 'Connie Loizos',\n",
       "  'crawled_at': '2018-03-22',\n",
       "  'date': '2018/03/21',\n",
       "  'text': 'Last August, we told you about Laura Deming, a New Zealand native who was home schooled before moving halfway around the world as a 12-year-old to work alongside\\xa0Cynthia Kenyon,\\xa0a renowned molecular biologist who specializes in the genetics of aging.\\nShe didn’t stay long. At age 14, Deming began her college career at MIT. When she turned 16, she dropped out to join Peter Thiel’s  two-year-old Thiel Fellowship program, which gives $100,000 to young people “who want to build new things.” By last August, when we profiled Deming, she had closed on $22 million in commitments for her second venture fund, which supports aging-related startups. She was 23.\\nBecause Deming has always had an intriguing relationship with time, we weren’t all that surprised when she reached out to us late last week to let us know her San Francisco-based venture firm, The Longevity Fund, has now established a new accelerator program — one with backing from famed investor Marc Andreessen, the early-stage venture firm Felicis Ventures and other, unnamed investors.\\nDeming isn’t disclosing how much money will be invested through the accelerator, called Age 1, but she does say the pool of capital is distinct from the money she’s investing with Longevity Fund. She also says that Andreessen, Felicis and her other backers will serve as mentors to the companies that pass through the program.\\nOther notable details about Age 1: Deming says that she and her advisors — including serial entrepreneur Elad Gil, who most recently co-founded the genomics testing company Color Genomics — will be “quite flexible” when it comes to the stage of applicants. She says the bigger idea is to help them get to a significant “value inflection point” within four months, which is how long the program runs.\\nInstead of accepting startups serially, Age 1 will work with small batches of startups — between three and five at a time — and it’s accepting them right now on a rolling basis, with plans to present them to an invite-only group of investors on October 5 in the Bay Area. (Startups can apply here.)\\nThough there’s not necessarily a headquarters for the program, Age 1 will provide co-working space for companies that need it and, even more notably, it will invest $500,000 per startup — more than most accelerators are willing or able to plug into the startups with which they work.\\nWhat we don’t know: at what cost. Asked about the ownership stake that Age 1 expects in exchange for its checks and mentorship, Deming, over email, declines to say.\\nAs for what Deming and company are looking for, she suggests the program is particularly interested in working with startups that are committed to addressing late-onset medical conditions relating to\\xa0Alzheimer’s, heart disease, diabetes and more. Though they’re casting a wide net, she adds that “one of hundreds of things we’d be interested in seeing is more work on the role of the circadian or other developmental clocks in longevity.”\\nWhether Deming’s ability to nurture startups is as promising as her prodigious understanding of biology remains to be seen, but her venture record to date is encouraging. Though Longevity has a fairly limited number of portfolio companies thus far, one of them, the genome editing technology company Precision BioSciences, secured a partnership last month with food giant Cargill; the two are now working together on a new\\xa0product to reduce saturated fat in canola oil.\\nAnother portfolio company —\\xa0UNITY Biotechnology, a company that’s trying to reverse aging through therapeutics — meanwhile closed on\\xa0$55 million in Series C funding on Monday. It has raised more than $200 million at this point, including from Thiel’s Founders Fund, Jeff Bezos, Fidelity and ARCH Venture Partners.\\xa0\\nTo learn more about Deming, you might check out this TED talk she gave back in 2013.',\n",
       "  'title': 'One of the youngest fund managers in the U.S. just launched her own accelerator, too'},\n",
       " {'author': 'Sarah Perez',\n",
       "  'crawled_at': '2018-03-22',\n",
       "  'date': '2018/03/21',\n",
       "  'text': 'YouTube  just became the Top Grossing iPhone app in the U.S. for the first time on Tuesday, after flirting with the top spot a number of times over the years, but never reaching higher than No. 3. The milestone was first spotted by the app store intelligence firm Sensor Tower, which notes that the U.S. is the only country where YouTube’s iPhone app has ever hit No. 1.\\nThe app has been climbing up the Top Grossing charts for years, however, thanks to the launch of YouTube Red in-app subscriptions in fall 2015. In fact, YouTube Red’s arrival almost immediately pushed the app into the Top Grossing charts. The month after Red’s launch, the YouTube iPhone app jumped all the way up to No. 6, we noted at the time. It was then estimated to be bringing in more than $100,000 per day — and perhaps as high as $300,000, excluding iPad.\\nYouTube’s iOS revenue has grown remarkably since then, of course, as YouTube Red itself grew in popularity, combined with other trends, like the rise of cord-cutting, YouTube’s youngest users finally getting their own phones, streaming plans from mobile carriers that don’t count YouTube’s data or those\\xa0offering cheap unlimited data, the growth of live streaming and the launch of other features to engage YouTube viewers — like messaging, Community, Reels and more.\\nIt’s unclear what may have pushed YouTube to No. 1, though. And it may have not been anything remarkable, just a steady climb upwards finally being rewarded, or maybe even a small tweak to Apple’s ranking algorithm.\\nAccording to Sensor Tower,  gross user spending to date is more than $200 million worldwide on iOS since the start of YouTube’s in-app monetization in 2015.\\xa0Last month it grossed approximately $14 million, a 133 percent year-over-year increase from February 2017. Though this month has not yet ended, YouTube’s worldwide iOS revenue is up 150 percent year-over-year, to more than $12 million.\\n\\nYouTube’s revenue comes largely from YouTube Red subscriptions, but it now includes\\xa0Super Chat purchases, as well — YouTube’s virtual tipping mechanism.\\nAlthough it’s obvious, we should point out that this revenue figure doesn’t include other sources, like YouTube Music or YouTube Gaming, which both also include in-app purchases. It also doesn’t include Google  Play, nor does it take into account the money YouTube makes in other ways, like rentals, purchases and, of course, advertising.\\nThe Top Grossing chart was removed from Apple’s App Store with its big makeover in iOS 11, but app store intelligence firms like App Annie and Sensor Tower still have access to this data.\\nYouTube has not commented on Sensor Tower’s data. We’ll update if that changes.',\n",
       "  'title': 'YouTube just became the Top Grossing iPhone app for the first time'},\n",
       " {'author': 'Romain Dillet',\n",
       "  'crawled_at': '2018-03-22',\n",
       "  'date': '2018/03/21',\n",
       "  'text': 'French startup Molotov has built the best TV streaming service in its home country. Unfortunately, if you tried using the service in other European countries, Molotov  would simply stop working. The startup now lets you stream your content when you’re traveling across the European Union.\\nThe European Union has been working hard on creating a digital single market across Europe. And the Council recently adopted a regulation to ban geoblocking across the European Union. European countries and online services have nine months to comply with the regulation.\\nAnd it looks like Molotov is complying as quickly as possible. You can expect a bunch of similar announcements in the coming months.\\nMolotov now has 5 million users. You can watch up to 80 different channels live, and on most channels, you can start over at the beginning of a program. Molotov also lets you search and watch content on catchup platforms. And finally, there’s a cloud recorder to store all your favorite shows. The service works on phones, tablets, laptops, smart TVs, Apple TV, Android TV and more.\\nThe startup now wants to expand beyond France and partner with local TV channels in other European countries. Today’s news is just step one of a much bigger European play.',\n",
       "  'title': 'Molotov is no longer geoblocked in Europe'},\n",
       " {'author': 'John Biggs',\n",
       "  'crawled_at': '2018-03-22',\n",
       "  'date': '2018/03/21',\n",
       "  'text': 'Omega has just announced a new version of their iconic Moonwatch, the chronograph that was worn most notably by Neil Armstrong on the surface of the moon. Their new model, the Dark Side of the Moon Apollo 8, features the traditional Moonwatch design with a few unique tweaks.\\nThe has an exhibition back – you can see the movement through a glass crystal – as well as a skeletonized face. The bridges – the pieces that hold the gears in place – are laser etched with a representation of the lunar surface and blackened for effect. It contains a manual wind mechanical movement and, while there is no pricing yet, should come in at about $9,000.\\nThe back of the case features an interesting quote. From the release:\\n“WE’LL SEE YOU ON THE OTHER SIDE” – the special words engraved on the caseback – were spoken by Command Module Pilot Jim Lovell on board the Apollo 8 mission at the start of the crew’s pioneering orbit to the dark side of the moon – a mysterious hemisphere never seen before by human eyes. Seconds before the spacecraft disappeared beyond the range of radio contact, Lovell spoke these final assuring words to ground control.\\nWhy is this fancy and particularly expensive watch  interesting? First, it’s a nice riff on the original Moonwatch, the first mechanical watch on the moon. Omega has been flogging the Moonwatch brand for decades and now they’re expanding to other space missions, including the Apollo 8. It’s a beautiful homage to the Golden Age of space exploration and it’s a bit more modern-looking than the original, austere black-and-white Speedmaster.\\n[gallery ids=\"1610258,1610257,1610256\"]',\n",
       "  'title': 'Omega takes us to the Dark Side with their new moonwatch'},\n",
       " {'author': 'Darrell Etherington',\n",
       "  'crawled_at': '2018-03-22',\n",
       "  'date': '2018/03/21',\n",
       "  'text': 'Elon Musk  raised a significant chunk of money for his tunnel boring  venture, the aptly named Boring Company, via sales of a heavily marked up ‘flamethrower’ with Boring Co. branding. Those pre-sales are all concluded, but now people who put down cash to reserve one are finding out when they can get their flame on.\\nIn an email to pre-order buyers, The Boring Company  noted that the technically “not-a-flamethrower” production run should be wrapping up this spring, which means deliveries can be expected at least in time for “summer party” time. That’s good because people definitely need this fire generating device in time for the dry summer months, when forest fire risks are highest.\\nAnother tidbit from the note to buyers: Customers can expect terms and conditions to be signed off ahead of shipments, which should be heading out in the next couple of weeks according to the company. The Boring Co. notes that these will be “rhyming,” and I presume they mean that literally – but they probably also have the serious purpose of making sure Elon’s corporate lawyers can once again enjoy something resembling sleep when these go out to customers.\\nBased on the shipping schedule of The Boring Company hat, which (full disclosure) I did buy (I did not buy the ‘not flamethrower’ flamethrower), if you ordered these you can probably still expect to wait a few more weeks if not months.',\n",
       "  'title': 'Elon Musk’s Boring Co. flamethrower ships in time for summer BBQs'},\n",
       " {'author': 'Ron Miller',\n",
       "  'crawled_at': '2018-03-22',\n",
       "  'date': '2018/03/21',\n",
       "  'text': 'Netflix announced in a Medium post today that it is opening a public bug bounty program on the Bugcrowd bug bounty platform.\\nThe roots of the company’s bug hunting concept go back to 2013 when Netflix launched what it called a,”responsible vulnerability disclosure program.” The idea continued to develop over the years and they launched a private bug bounty program on Bugcrowd  in 2016. They started small with 100 researchers and today at the launch of the public program they have increased that number to 700, according to the blog post.\\nThey report since inception they have been able to solve 145 issues, paying out a variety of bounties with the highest being $15,000. “We have attempted to fine tune things like triage quality, response time and researcher interactions to build a quality program that researchers like to participate in,” the company wrote in the blog post announcing the program.\\nNetflix is far from alone in running these kinds of programs. Many big organizations like Facebook, Google and many others use bug bounty programs to pay researchers to find security holes on their platforms before black-hat hackers do. The idea is to provide financial incentive to find the bugs, rather than going in and exploiting the vulnerability for personal gain.\\nThere is generally a leader board, so in addition to financial remuneration, the researcher also gets bragging rights and public acclaim for tracking down bugs. And it’s not just traditional tech companies running these programs. General Motors has one running on the HackerOne platform\\xa0and MasterCard has one on Bugcrowd.\\nBugcrowd and other bug bounty platforms like HackerOne provide a way to administer the program, providing a way to recruit researchers, then letting them know which vulnerabilities they are looking for and how much they are willing to pay. To give you a sense of how lucrative these programs can be to hackers, Google released a report last month indicating it paid out almost $3 million in bounties last year with rewards ranging from $500 to $100,000.\\nNetflix is hoping to attract people who can similarly help them track bugs and keep their systems secure. A bug bounty program is a proven way to achieve that.',\n",
       "  'title': 'Netflix launches bug bounty program to pay researchers to track down bugs'},\n",
       " {'author': 'Romain Dillet',\n",
       "  'crawled_at': '2018-03-22',\n",
       "  'date': '2018/03/21',\n",
       "  'text': 'Sketchfab has built a huge library of 3D models. Some of them are available under a Creative Common license, others can be purchased. The startup now wants to help you do stuff with all this content. You can now download and import 3D models into your favorite 3D app.\\nBehind the scenes, Sketchfab  has built a download API and some integrations with popular 3D tools. After that, you’ll find a Sketchfab search bar in a third-party app. You can type a few keywords, filter by quality, preview and then download a 3D model into your current work.\\nSketchfab uses the glTF format. Eventually, the startup will let you store your own 3D models so you can access them from all Sketchfab-enabled apps. You’ll also find your purchased model in there, too.\\nSketchfab has developed plugins for Unity, Unreal and Godot. Game developers are going to love this integration, especially if you want to put together a quick prototype before building your own 3D models.\\nYou also can use Sketchfab in Torch3D, Minsight, Spatial stories, Selerio, StellarX, Holobeam, AnimVR, Plattar, Sketchbox3D and Looking Glass.\\nAnd the company is also working on integrations for Amazon Sumerian, Blender, Substance, Modo, Cinema 4D, Octane, HighFidelity, Aframe, Houdini, Sansar, Mimesys, The Wave VR, Masterpiece VR, Artomatix, Flipside VR, Blend Media, NormalVR, Vectary, Streem, and Meta glasses.\\nAs you can see, Sketchfab covers a wide range of 3D software, as well as VR and AR platforms. There are more than 2.5 million 3D files on Sketchfab. So it makes sense to provide a download API that works just like Giphy integrations in messaging apps.',\n",
       "  'title': 'Sketchfab lets you import 3D models into your favorite 3D software'},\n",
       " {'author': 'Brian Heater',\n",
       "  'crawled_at': '2018-03-22',\n",
       "  'date': '2018/03/21',\n",
       "  'text': 'MIT CSAIL just revealed footage\\xa0of SoFi, the lab’s robotic fish, which looks right at home swimming amongst the coral reefs of Fiji. The project is an attempt to create an autonomous underwater vehicle that looks as close to a real fish as possible, in hopes of studying marine life without disturbing them in the process. \\nThe system is built around a soft robotic muscle, designed to operate similarly to a real-life fish tail. “We developed a system that takes silicone elastomer and placed hollow cavities in such a way that can equally distribute pressure on the skin of the body,” the study’s lead author Robert Katzschmann told TechCrunch. “We have two balloon chambers and flow water back and forth. That change in pressure causes the tail to undulate back and forth.”\\nIt’s a principle that works similarly to existing soft robotics, many of which utilize shifting pneumatics to create motion in their joints. Here, it allows for the fish to be in constant motion, emitting less sound as it travels through the water.\\n\\nThe team did, however, use sound in other ways. A diver, equipped with a waterproofed Super Nintendo employed a custom acoustic system to help guide SoFi from afar. \\n“One challenge is that radio signals are absorbed really quickly in water, so something like WiFi or Bluetooth would only work within a few feet,” explained grad student, Joseph DelPreto. “Sound travels really well underwater, so we used that instead. The remote control sends out sounds that are too high-pitched for humans to hear, but the robot can decode them. Using this, we can send high-level commands to the robot.”\\n\\nFor now, the system is a cool video, but the team hopes access provided by Sofi’s on-board camera and fisheye lens could ultimately give marine biologists unprecedented access to their subjects. \\n“The fish could potentially do extraordinary things for our understanding of whales,” expand CSAIL head Daniel Rus, adding that whale births have been an extremely difficult phenomenon to capture on video. “Imagine using our fish as a non-threatening observer that is able to capture images and scenes that have never been seen before. We can learn so much about marine life.”\\n[gallery ids=\"1610233,1610232,1610234,1610235,1610236,1610237,1610238\"]',\n",
       "  'title': 'MIT’s soft robotic fish is studying real ones in Fiji'},\n",
       " {'author': 'Noramay Cadena',\n",
       "  'crawled_at': '2018-03-22',\n",
       "  'date': '2018/03/21',\n",
       "  'text': 'Noramay Cadena\\nContributor\\n\\n\\n\\n\\t\\tNoramay Cadena is co-founder and general partner at Make in LA, an early-stage accelerator and fund created to support technology-enabled hardware companies.\\t\\n\\nDuring a recent interview with Forbes I was asked to reflect on the “Imposter Syndrome” and whether or not I was affected by it. My answer was “All the time, actually!” I came to realize that the insecurities attendant to being a first-generation college grad never really go away, and that their myriad visits continue to bedevil one’s sense of belonging.\\nI began to vaguely sense this after business school. I held three MIT degrees and yet the homogeneity of my workplace caused doubt to creep into my mind. The official recognition and naming of this syndrome changed me, because it made clear that I’d always have to remain on guard and proactively shore up feared shortcomings.\\nAs investors, we constantly remind entrepreneurs that they’ll hear many nos and will have to power through them to get to the yesses. This is easier said than done for those whose insecurities are not held at bay by centuries of generational success. But, having been on the other side of this exchange while fundraising for the last two years, I’ve gained an appreciation for the process, and this will serve to help me de-personalize any future “nos” that come my way. More importantly, it’s helped me understand that to allow fear to cow me into less of an informed risk-taker is to be party to the dismantling of my own confidence.\\nRemaining an effective leader in the midst of the imposter syndrome is paramount, as is remaining active and on task, especially in the service of a greater good. For me, trepidation is best diffused by doing something for someone else. Being of service is an evergreen reminder that we have value, irrespective of extrinsics. The validation then cascades into a sense of belonging and worth, and the resultant bolstering of spirit conveniently spills over into energy applicable to the “regular” work ecosystem.\\nThere’s a shared reality that applies to first-generation college grads and/or immigrants and/or underserved communities: beyond the drag of imposterism, risk taking is also inhibited by socioeconomic Swords of Damocles, such as income that can’t be gambled because it’s earmarked for food, health, family or other essentials. Invoking Maslow’s hierarchy of needs, financial brittleness inexorably dislevels one’s ability to propose and contend with unconstrained entrepreneurs. The struggle related to the twin bears of personal and financial fear is real, and it informs my passion to foster diversity through activism and venture capital.',\n",
       "  'title': 'Confronting the ‘imposter syndrome’'},\n",
       " {'author': 'John Biggs',\n",
       "  'crawled_at': '2018-03-22',\n",
       "  'date': '2018/03/21',\n",
       "  'text': 'A 15-year-old programmer named Saleem Rashid discovered a flaw in the popular Ledger hardware wallet that allowed hackers to grab secret PINs before or after the device was shipped. The holes, which Rashid described on his blog, allowed for both a “supply chain attack” – meaning a hack that could compromise the device before it was shipped to the customer – and another attack that could allow a hacker to steal private keys after the device was initialized.\\nRashid is not affiliated directly with any Ledger competitors although there was some suggestion that he did some work on Trezor and other competing hardware wallets. His response:\\n\\n\\nIn the interests of full disclosure: I own a @TREZOR. I also own a @DigitalBitbox.\\nI have contributed to the open source @TREZOR firmware in the past and I have worked as a contractor for @NEMofficial to implement $NEM support for TREZOR. 2/\\n— Saleem Rashid (@spudowiar) March 20, 2018\\n\\nThe Ledger team described the vulnerabilities dangerous but avoidable. For the “supply chain attack,” they wrote: “by having physical access to the device before generation of the seed, an attacker could fool the device by injecting his seed instead of generating a new one. The most likely scenario would be a scam operation from a shady reseller.”\\n“If you bought your device from a different channel, if this is a second hand device, or if you are unsure, then you could be victim of an elaborate scam. However, as no demonstration of the attack in the real has been shown, it is very unlikely. In both cases, a successful firmware update is the proof that your device has never been compromised,” wrote the team.\\nFurther, the post-purchase hack “can be achieved only by having physical access to the device, knowing your PIN code and installing a rogue unsigned application. This rogue app could break isolation between apps and access sensitive data managed by specific apps such as GPG, U2F or Neo.”\\nLedger CEO Eric Larchevêque claimed that there were no reports of the vulnerability effecting any active devices.\\n“No one was comprimised that we know of,” he said. “We have no knowledge that any device was affected.”\\nRashid, for his part, was disappointed with the speed Ledger responded to his claims. He wrote on Twitter:\\n\\nThe Ledger team disagrees.\\n“We were in contact with Saleem for the last four months,” Larchevêque said. “It is incorrect to state that we did not reply to him or do anything. There were other vulnerabilities that came along at the same time and it was a complex vuln that was deep in the architecture of our system.”\\n“All systems have vulnerabilities,” said Larchevêque. “That’s part of the life of any security system. It’s a game of cat and mouse.”\\nWallet maker Trezor has also announced an update for their hardware to verify the integrity of their devices.\\nUltimately, this breach shows us that hardware wallets are a good solution but still not foolproof. Regular updates and careful key management are still vitally important.',\n",
       "  'title': 'A 15-year-old hacked the secure Ledger crypto wallet'},\n",
       " {'author': 'Frederic Lardinois',\n",
       "  'crawled_at': '2018-03-22',\n",
       "  'date': '2018/03/21',\n",
       "  'text': 'If you know about Synology,  chances are you know about its network attaches storage (NAS) hardware. Over the course of the last few years, the company made a name for itself as one of the premiere NAS providers for consumers and small businesses who want to make local backups of their data or make it easy for users in an office to share local drive space. Now, the company is making a major move into the cloud with the worldwide launch of its C2 Backup service for its NAS systems, which was previously only available in Europe.\\nTo be clear, C2 Backup is all about backing up your Synology NAS system in the cloud. It’s not a competitor to online backup services like iDrive, Carbonite or Backblaze.\\nIf you are a Synology NAS user, though, this service gives you yet another degree of security. Backing up your data locally is a good first step, after all, but if a disaster strikes your office, your backups are gone, too. Synology has long offered the ability to store backups in the cloud (on Amazon’s S3 service, for example), but it clearly wants a piece of this business, too.\\n“The flexibility of cloud backup in terms of low barrier to entry and strong future scalability plays a key role in the rapid growth of this market. With the demand for offsite data protection on the rise, we have received numerous requests from regions outside EMEA to expand our C2 Backup coverage,” said Jia-Yu Liu, Director of the Application Group at Synology. “We are happy to announce that all users around the world can now enjoy the same seamless backup experience designed specifically for Synology NAS.”\\n\\nPricing for the service seems pretty fair, with plans that start at €9.99/year for 100 GB of backed up data. Prices go up to\\xa0€59.99/year for a terabyte. Under these plans, you can store 11 backup versions which remain in the system for 30 days. What’s nice here is that only the size of the source data counts against your storage usage, not the individual backups.\\nFor users who need more flexibility, the company also offers a\\xa0€69.99/TB/year plan with flexible backup schedules and customizable retention policies. The company is also offering a 30-day free trial.\\nA subscription business is obviously a smart move for Synology. The company mostly relied on its hardware sales for its business so far, but with the C2 Backup and the existing C2 Disaster Recovery services, it now offers two subscription services with recurring revenue.',\n",
       "  'title': 'Synology’s C2 backup services goes live to users worldwide'},\n",
       " {'author': 'Josh Constine',\n",
       "  'crawled_at': '2018-03-22',\n",
       "  'date': '2018/03/21',\n",
       "  'text': 'Instagram  may copy Snapchat’s QR Snapcode scanning, judging by files buried in the Instagram Android app’s files. Meanwhile, today it’s starting to let users link to hashtags and other accounts from their profile.\\n“Nametag scan” images indicate Instagram might want to let you aim your phone’s camera at a visual code to open someone’s profile. Instagram declined to comment, but the last time we reported portrait mode files that were hidden inside Instagram, it was spotted testing a “Focus” portrait mode option a week later.\\nTechCrunch reader Ishan Agarwal discovered the files seen below and provided them to TechCrunch.\\n\\n\\nUpdate: The Killer Features blog has spotted code in the Instagram that explains more about how nametags work. It appears users will be able to add stickers and selfies to their nametag. Text detailing “Open this photo in the stories camera to follow” appears in the code. That means nametags would work just like Snapchat’s QRs, and the shutter image above is likely going to be a Stories camera option like Boomerang or Super Zoom, which all have their own shutter icons.]\\n\\nThe nametag scanning feature could eventually launch under a different name like Focus did. It would be a boon to businesses and social stars looking to visually promote their accounts both online and in physical print materials. It also could assist users with long or complex usernames by making it easier for friends to follow them.\\nProfile links to hashtags and accounts\\nAs for official new features, Instagram is expanding self-expression within the profile beyond your bio and website link. Users will now be able to add links to several hashtags of content on Instagram so they can show off their favorite subcultures and topics. Users also will be able to provide links to other Instagram accounts. That could help people promote their other accounts, pledge allegiance to their favorite creator or shout out their significant other.\\n“With hashtag and profile links in your bio, you can express yourself and your interests right in your profile. Whether you’re a\\xa0#guitarlover, into\\xa0#pencilsketching\\xa0or have a\\xa0#makeuptutorial\\xa0account, now you can link to any hashtag or profile you want,” Instagram writes. Users can add the links through the Edit Profile bio section. A typeahead will help people find the right things to link to. Accounts you link to will get a notification alerting them.\\n\\nThe features could make sure people keep gaining new followers and finding new people to voyeuristically observe. Avoiding graph stagnation is critical to the app keeping users coming back. If people feel like they’ve seen enough preening photos and silly Stories from everyone they follow, they could drift from Instagram.\\nMeanwhile, hashtag links could encourage users to dive deeper into Instagram, beyond the feed and today’s Stories.\\xa0Knowing that your friends love a certain #slime or #Jordans hashtag could convince you to leap down the rabbit hole. They also provide a better way to visually define your interests in ways your own images and bio text can’t. In those senses, the feature is similar to Instagram Story Highlights, which launched late last year to let you permanently show off your favorite expired Stories. \\nInstagram is increasingly becoming a calling card or internet home, especially for younger users who shun Facebook, which previously held that role. By opening new ways to scan or link to accounts, and display what they’re all about, Instagram could become the source of people’s online identity.',\n",
       "  'title': 'Instagram has unreleased ‘nametag’ scanning, adds # & @ links to profiles'},\n",
       " {'author': 'Brian Heater',\n",
       "  'crawled_at': '2018-03-22',\n",
       "  'date': '2018/03/21',\n",
       "  'text': 'Spotify  has been working with Cadillac to integrate the streaming music into the in-dash entertainment system for new and recent models. The app actually started as a quiet roll-out for some car owners earlier this year, accessible through the company’s in-car app store.\\nThe app will be available on all new Cadillac  models, along with a selection already on the market, including the XTS, CTS, ATS, CTS-V and ATS-V. Spotify walked me through the app in a new Caddy parked outside the iconic U.S. car maker’s flagship storefront on the West Side of Manhattan.\\nSpotify says it believes the app represents a new kind of in-car model for the streaming service. Aesthetically, it kind of splits the difference between Cadillac’s infotainment system and Spotify’s app design — though the car’s display made the colors look a fair bit more subdued than you’ll find on your phone. Still, the music company’s pretty psyched that it was able to bring over some key stylistic elements, including fonts and such.\\n\\nSpotify’s playlists are the key to the interface. Obviously the key to a successful in-car system is making things as seamless as possible, so the driver can focus on such important tasks as not crashing the car. Rather than scrolling through endless track listings, the app presents collections in a manner similar to the Browse tab on Spotify, with large images representing custom-picked playlists.\\nThe downside of this is that it minimizes control over playback. So, you can’t hunt for specific artists, songs or albums. That’s a big downside for obsessive music listeners. There is a keyboard that’s accessible, but that will only pop up when you’ve come to a full and complete stop. The most obvious fix — voice functionality — has yet to be rolled out here.\\nThe company says it’s working on a proprietary voice solution. It’s also working directly with Google and Amazon to integrate their voice assistants, but again, none of that at launch. That said, Spotify’s promising “three to four software updates minimum” per year, so hopefully that’s coming sooner than later.',\n",
       "  'title': 'Cadillac brings Spotify integration to select models'},\n",
       " {'author': 'Sarah Perez',\n",
       "  'crawled_at': '2018-03-22',\n",
       "  'date': '2018/03/21',\n",
       "  'text': 'Target  has begun to test a new loyalty program, “Target Red,” that combines discounts on delivery with cash back on later purchases. The program will serve as an alternative to the existing REDcard program which requires customers to sign up for a Target credit or debit card. With Target Red, customers instead earn 1 percent back on purchases that they can redeem on their next visit, as well as receive 50 percent off a Shipt membership, and free next-day delivery through Target Restock.\\nThe retailer had\\xa0acquired same-day delivery service Shipt in December for $550 million, and has continued to operate it as usual, after adding Target to the list of available stores, of course. It’s also now helping to push customers who were shopping rival grocers on Shipt  over to Target by pricing its own items the same as they are on the Target website, while others remain marked up.\\nMeanwhile, Target Restock is the retailer’s own entry in next-day delivery, which allows consumers to fill a box with everyday essentials – like household goods and pantry staples – and take delivery for $4.99 per box. (For comparison, Prime Pantry is now $7.99 per order, unless paying a $4.99 per month membership, which makes order over $40 ship free.)\\nHowever, Target Restock is only available in select metros at this time – following an expansion last fall, it now reaches over 70 million people,\\xa0Target said.\\nTarget Red loyalty program members will be able to waive that $5 delivery fee on Restock, and can take half off the cost of the typically $99 per year Shipt membership, too.\\nMore importantly, perhaps, is the one percent back, as a way to lure in shoppers who won’t sign up for REDcard.\\nTarget REDcard is already quite popular – as of the company’s latest earnings, it accounts for 24 percent of sales, with 12.7 percent from Target Debit Card, and 11.4 percent from Target Credit cards. But those figures aren’t climbing much these days. That’s where Red comes in.\\n\\n“When developing Target Red, we went straight to our guests to better understand what would be most meaningful to them in a loyalty program,” said Rick Gomez, executive vice president and chief marketing officer, Target.\\nAnd what they wanted was a loyalty program without a payment card attached. They wanted something more along the lines of traditional loyalty – that is, being rewarded for shopping at Target.\\nOf course, Target tried rewarded loyalty before. In 2016, it launched “Cartwheel Perks,” where purchases turned into points that could be redeemed towards specific items. But the program may not have been as well-received as Target liked because of the complexity. The test ended last year, with Target promising something better was in the works.\\nA straight cash-back option is arguably much simpler.\\nAnother interesting twist to Target Red – and one that likely appeals to millennial shoppers in particular – is the part where program members can direct Target’s charitable giving in their local community.\\nThe test of Target Red is taking place in the Dallas-Fort Worth area for now, so members will be able to vote for local organizations who should receive Target’s community giving funds, in addition to redeeming rewards online and in stores through the Wallet in Target’s mobile app, which previously only worked with REDcard.\\nWhile largely billed as an alternative to REDcard, Target will allow REDcard members to join Target Red if they choose. They can’t stack the 1 percent back with their existing 5 percent discount, but they can use the other perks, the company says.\\nThe addition of Red also comes at a time when Target, like all retailers, is trying to figure out its place in a market where Amazon is dominating e-commerce. With Amazon Prime, customers can take free 2-day delivery, fill pantry boxes, shop for groceries through Prime Now (including Whole Foods) or AmazonFresh, shop cashier-less convenience stores in select urban markets, and enjoy a host of other perks. Amazon also has a variety of payment products, like cashback cards, and even discounts for EBT shoppers.\\nWalmart has followed suit with free 2-day shipping without a membership, EBT support for online grocery orders, curbside grocery pickup and delivery (the latter of which is now expanding), hefty ship-to-store discounts, free shipping from Sam’s Club and its\\xa0integration with Instacart, and more.\\nTarget, then, needed to come up with a loyalty program of its own that will not just increase foot traffic (as the 1 percent back on a later purchase does), but also ties into Target’s newer e-commerce efforts, like Shipt and Restock.\\nTarget did not confirm when the Target Red test would expand beyond Dallas-Fort Worth.',\n",
       "  'title': 'Target tests a new loyalty program with 1% back, Shipt discounts and free next-day delivery'},\n",
       " {'author': 'Megan Rose Dickey',\n",
       "  'crawled_at': '2018-03-22',\n",
       "  'date': '2018/03/21',\n",
       "  'text': 'Zagster,  the bike-share startup that raised a $15 million round last month, has laid off some employees, TechCrunch has learned. Zagster has since confirmed the layoffs, but has yet to comment on the number of those affected.\\n“Coming off the heels of our recent financing, we’ve re-structured to accelerate expansion of Pace,  with a heavier focus on building in-market teams to greatly expand bike fleets, drive higher ridership, and partner with local businesses to sponsor Pace parking,” Zagster CEO Tim Ericson said in a statement to TechCrunch. “We did have to let a number of people go with roles not aligned to our Pace strategy. We’re extremely appreciative of their contributions and are helping them through the transition.”\\nThe shift from docked to dockless bike-sharing is what prompted the layoffs, Ericson said. Within the U.S. dockless market, Ericson said he sees two models emerging: free-floating and lock-to.\\n“We believe the U.S. market will move to lock-to, with cities regulating and enforcing lock-to parking\\xa0within three years,” Ericson said.\\xa0“Zagster has a strong lead in lock-to, with exclusive rights to operate in more than 100 cities and colleges.”\\nZagster’s Pace is one of the newer entrants to the bike-share space, which consists of a number of startups and larger companies battling for contracts with cities all over the world.\\xa0Pace, which launched just a few months ago (in December), currently operates in Tallahassee, Florida and Knoxville, Tennessee. With the funding, Zagster plans to launch Pace in additional cities this year.\\nZagster also operates a bike-share solution for municipalities looking to offer their own city-specific services. Zagster, which launched in 2007,\\xa0operates more than 200 bike-shares\\xa0across 35 states in the U.S.\\nZagster’s plan, Ericson said, is to convert its bike-shares to the Pace brand and model, with the ultimate goal of creating a nationwide dockless system across 35 states by the end of 2019. Over the next three months, Zagster plans to quadruple the Pace footprint by launching in six new cities.\\nThis year has been full of bike-share news, from\\xa0JUMP scoring an exclusive contract\\xa0to operate its stationless bike-share service in San Francisco to both LimeBike and Spin unveiling their own take on e-bikes.',\n",
       "  'title': 'Layoffs at bike-share startup Zagster following $15 million raise'},\n",
       " {'author': 'Ingrid Lunden',\n",
       "  'crawled_at': '2018-03-22',\n",
       "  'date': '2018/03/21',\n",
       "  'text': 'Clari\\xa0— a startup that has built a predictive sales tool that provides just-in-time assistance for sales people close deals and for those who work in the bigger chain of command to monitor the progress of the sales operation — is capitalising on the big boom in interest for all things AI in the business world. The company is today announcing that it has closed a Series B round of $35 million, funding that it will be using to build out its own sales and marketing team and expand its platform capabilities.\\nThe round was led by Tenaya Capital, the VC fund that started its life as a part of Lehman Brothers, along with participation from other new investors\\xa0Thomvest Ventures and Blue Cloud Ventures, and previous investors\\xa0Sequoia Capital, Bain Capital Ventures and Northgate Capital. It brings the total raised by Clari  to $61 million.\\nAndy Byrne, the founder and CEO who is a repeat entrepreneur and has been involved in several exits, said the funding closed “definitely at an upround, and much bigger than we thought it was going to be,” but declined to give a number. For some context, Clari, according to Pitchbook, had a relatively modest post-money valuation of $83.5 million in its last round\\xa0in 2014, so my guess is that it’s now comfortably into hundred-million territory, once you add in this latest $35 million.\\nThe funding comes at an interesting time for AI startups, particularly those aimed at enterprise IT.\\nWhen Clari first emerged from stealth in April 2014, the idea of applying AI to solve pain points for non-technical people in organizations was a fairly nascent and still-novel concept.\\nFast forward to today, things have moved very fast, as is often the case in the tech world. Now, you can’t seem to move for all the enterprise IT startups that are either using or claiming to use AI in their solutions. There are so many startup hopefuls, and so many organizations looking for the best way to use AI to improve their business and operations, that there are even startups being founded to manage that opportunity of connecting the two pieces together, such as Element AI.\\n“I’m not saying we were clairvoyant for targeting the idea of using AI for sales in 2013,” Byrne said. “There has been a large macro trend and if you happen to be a small company that is along for the ride. When we first launched, we had this thesis about AI for sales. Now it’s not the number three or two priority for sales teams, it’s number one. It’s everywhere. Businesses want to invest and spend more money on AI and making things more efficient.”\\nClari says that its customer base has tripled in the last year, with customers including\\xa0Adobe, Audi, Check Point Software, Equinix, Epicor Software Corporation, GE, and PerkinElmer.\\nClari’s approach for using AI for the sales team comes in two main areas. First, the company’s system is aimed to reduce some of the busywork that salespeople have in maintaining and updating files on people, by bringing in a number of different data sources and using them to provide composite pictures of target companies that salespeople might have had to otherwise compile with more manual means. Second, Clari puts a lot of focus on its “Opportunity-to-Close (OTC) solutions” — a type of risk-analysis for salespeople and their managers to help them figure out which leads and strategic directly would be the most likely to produce sales.\\n“Working with Clari since inception, we have been impressed with its growth and strong execution,” said Aaref Hilaly, Partner at Sequoia Capital, in a statement. “Clari has fast become indispensable to many of the most successful sales teams, giving them visibility into their most important metrics: rep productivity, pipeline health, and forecast accuracy.”\\nIndeed, risk and outcome is a smart area to be in: using AI to help model this is a key area of focus in enterprise IT at the moment, according to feedback I’ve had from a number of others in the enterprise world.\\n“If you have 150 opportunities presented to you as a salesperson, how do you choose 10 where you should spend your time?” Byrne asked. “A more traditional CRM platform has never showcased your risk and outcomes.”\\nWhile up to now Clari has focused on providing intelligence on what is already in a company’s account database, the next step, Byrne noted, is to draw on data from around the web, providing completely new business leads to the sales team.\\nWhen we last covered a funding round for Clari, we noted that the company’s laser focus on sales was something that made the company stand out for investors: nailing one aspect of a business’s operations without distractions from other parts of the organization and what it could be spending time solving elsewhere (in fact, when you think about it, the very goal that Clari has been aiming to achieve for salespeople through its product).\\nBut four years on, the company is now widening that ambition. It’s applying its AI engine now to help marketeers weigh up the best opportunities for reaching out to prospective customers; and interestingly it sounds like it will also be applying its engine to product development and specifically supply chain management.\\nByrne described one customer, a medical device maker, that was encountering “inefficiencies” around what they should build and when to meet market demand. “Now that they can predict and forecast order bookings and revenue targets, and what’s happened is that their supply chain has become more efficient,” he said. “It is great example of how our AI is now being expanded.”\\n“The Clari team has leveraged its deep AI expertise to build a unique platform that surfaces predictive insights for sales reps, managers, and execs during the opportunity-to-close process,” said Brian Paul, MD at Tenaya Capital, in a statement. “We see a massive opportunity for AI to transform how sales teams operate which is clearly validated by Clari’s customers and the impressive growth the team has achieved.”',\n",
       "  'title': 'Clari raises $35M for its AI-based sales platform, expands into marketing and supply chain management'},\n",
       " {'author': 'Brian Heater',\n",
       "  'crawled_at': '2018-03-22',\n",
       "  'date': '2018/03/21',\n",
       "  'text': 'Back in January, reports surfaced that Jimmy Iovine was planning to exit Apple later this year — four years after selling Beats to the company. The music exec issued a semi-denial at the time, stating that he was committed to his bosses and still “in the band.” \\nThe latest update to Iovine’s reported on-again-off-again relationship with Apple Music comes by way of The Wall Street Journal, which positions the move not as a full exit, so much as a reduced role. According to the report, Iovine will be swapping his current oversight role in august for something more of the consulting variety. \\nThe Interscope Records co-founder is one of the last few top execs left post-Beats acquisition. Apple’s interest in the company’s iconic headphone offerings have long taken a backseat to Apple Music, the service the company built atop Beats Music.\\nIt’s since become a centerpiece of the company’s streaming content offering, and the basis of products like the HomePod. The product has been seeing strong growth\\xa0(with 38 million paid subscribers at last count) and become a legitimate Spotify competitor, courtesy of its positioning inside the Apple software ecosystem.\\nThe Beats brand marketshare, meanwhile, has slipped as Apple has taken a stronger interest in its own headphone offering, by way of AirPods. The company has continued to update Beats devices, incorporating its W1 bluetooth chip into recent generations of products, but AirPods and HomePod are very clearly the face of the company’s music hardware, moving forward. \\nIovine’s new role at the company will likely see a lot less day-to-day input with the company, and the consultant role could certainly be just an act of good faith, with the executive showing a commitment to the brand even after his shares have vested.',\n",
       "  'title': 'Jimmy Iovine said to be transitioning to consulting role at Apple'},\n",
       " {'author': 'Sarah Perez',\n",
       "  'crawled_at': '2018-03-22',\n",
       "  'date': '2018/03/21',\n",
       "  'text': 'Pandora  announced this morning it’s acquiring digital audio ad technology firm AdsWizz for $145 million, as a combination of at least 50 percent cash, with the remaining paid in either cash or stock at Pandora’s discretion. The company, whose technology will be used to upgrade Pandora’s own ad tech capabilities, will continue as a subsidiary headed by CEO Alexis van de Wyer.\\nAdsWizz offers an end-to-end technology platform that powers music platforms, podcasts and broadcasting groups. Customers include Cox Media Group, iHeartRadio, TuneIn, Entercom, Omnicom Media Group, Spotify, Deezer, PodcastOne, GroupM, and others.\\nIts software suite includes a variety of ad technology capabilities, including dynamic ad insertion, advanced programmatic platforms, ad campaign monitoring tools, and more.\\n\\nAbove: AdsWizz’ AudioMatic platform for programmatic buying\\xa0\\nIt has also developed a number of new audio formats, like ShakeMe which has users shake their phones to trigger an action while listening to an ad; ads that can target users based on an activity like jogging or a situation like cold weather; ads that can be customized based personalized data; and others.\\nPandora says it will leverage the acquisition to capitalize on the growth in digital audio advertising, which is up 42 percent year-over-year, according to the IAB.\\nWe understand that Pandora was interested in where AdsWizz’ roadmap aligned with Pandora’s specifically in the areas of\\xa0audio monetization and ad-buying capabilities. It believes that by joining forces, it will be able to ship and launch new products faster.\\nOnce integrated with Pandora, advertisers will be able to transact through AdsWizz’s\\xa0global marketplace across Pandora and other audio publishers, the company says. Pandora says that it will continue to invest in AdsWizz technology that supports its core business and the wider industry – or, in order words, Pandora isn’t ripping away AdsWizz from its competitors in streaming at this time.\\n“Since I joined Pandora six months ago, I have highlighted ad tech as a key area of investment for us. Today we took an important step to advance that priority and accelerate our product roadmap,“ said Roger Lynch, CEO of Pandora, in a statement. “With our scale in audio advertising and AdsWizz’s tech expertise, we will create the largest digital audio advertising ecosystem, better serving global publishers and advertisers — while improving Pandora’s own monetization capabilities.”\\nThe deal comes at a time when Pandora continues to generate the majority of its revenues from advertising, despite its entry into the subscription business with its own rival to Apple Music and Spotify. In its Q4 2017 earnings, the company reported\\xa0$97.7 million in subscription revenue that offset a 5 percent year-over-year decline in advertising revenues. Meanwhile, ad revenues clocked in at\\xa0$297.7 million,\\xa0down from $313.3 million in the same quarter the year before.\\nIt also follows a rough year for Pandora which saw its original founder and CEO Tim Westergren exit, along with Chief Marketing Officer Nick Bartle and President Mike Herring, as part of a larger exec shakeup.\\nIn addition to AdsWizz CEO van de Wyer, Pandora’s acquisition will add 140 people to the company from across all AdsWizz locations, including its San Mateo headquarters.\\nPandora has not been as acquisitive as rival\\xa0Spotify, having generally\\xa0purchased businesses that are of strategic importance at the time, instead of smaller teams with interesting technology. It’s best known for its acquisitions of Rdio and Ticketfly in 2015, though the latter was handed off to Eventbrite last year.\\n“We know that the value we have created for all our stakeholders – brands, publishers and listeners – comes from our ability to create engaging and well-targeted advertising experiences. That will not change,” said van de Wyer, in a post on AdsWizz’ website. “Our focus has always been digital audio, with a unique expertise in innovative monetization solutions. That will not change. What will change is our ability to grow even faster, to develop technology more rapidly, to accelerate our ability to provide solutions that meet the increasingly sophisticated needs of advertisers and digital audiences. And to have an even bigger impact on people’s lives,” he added.\\nThe new acquisition does not impact the first quarter 2018 guidance or the full year 2018 commentary provided at Pandora’s last earnings, the company notes. The transaction is expected to close in the second quarter of 2018, and is subject to regulatory approval.',\n",
       "  'title': 'Pandora doubles down on ad tech with acquisition of AdsWizz for $145 million'},\n",
       " {'author': 'Matthew Lynley',\n",
       "  'crawled_at': '2018-03-22',\n",
       "  'date': '2018/03/21',\n",
       "  'text': 'If all goes well, some GIF creators may start seeing their GIFs  show up in augmented reality experiences, based on a new deal that’s happening with Gfycat this morning.\\nGfycat said it would be working with a company called Metaverse that, like many tools of its kind, is looking to make it easier to build applications in a more plug-and-play matter — this time for building augmented reality apps. Gfycat has more than 130 million monthly active users and in particular gears its tools toward creators, and this could be another step in helping those creators get their content out to the masses as activity in augmented reality starts to continue to pick up. It’s certainly not that pretty right now, but these small agreements can sometimes be the start of increasingly robust toolsets for developers.\\nTo be sure, there’s a number of caveats. The most obvious one is that the GIFs created by those creators have to have a transparent background. After all, it would be weird for them to show up in the real world with a weird kind of background that blocks off the rest of reality and kind of sack the whole “augmented reality” concept. But at the same time, it does start to offer a kind of pseudo-home for creators that are looking to crack into AR as well as also offering developers looking to build games or other apps and opportunity to have easy access to content to get started.\\nWe’ve seen from the explosion of games like Pokémon Go and others that augmented reality games are increasingly going to be\\xa0A Thing. Niantic may have created a pivotal use case for that with a strong brand, but while looking a bit janky right now, it’s possible that a simple game developer might figure out some niche use case in AR that will actually blow up. That starts with having access to good content, and something like this would help get them started.\\n\\nAll this might be completely moot if Apple and others roll out an increasingly simple interface for AR app development like more robust tools in ARkit, where developers would just sidestep platforms like Metaverse in order to just build their own interfaces. But having a hub of content to start from is also an important step in figuring out where to even begin.\\nThe GIF space is increasingly blowing up. We’ve already talked about how a bunch of these major platforms are continuing to grow with Giphy  saying it has 300 million daily active users. Tenor, another GIF platform, meanwhile nets around 12 billion searches a month for its own GIFs.',\n",
       "  'title': 'Gfycat looks to be a hub of content for AR experience development'},\n",
       " {'author': 'Emma Comeau',\n",
       "  'crawled_at': '2018-03-22',\n",
       "  'date': '2018/03/21',\n",
       "  'text': 'Here’s a big TechCrunch global shout-out to all countries interested in showcasing their best and brightest technology startups. Come to Disrupt San Francisco 2018 on Sept. 5-7 at the Moscone Center West and join more than 1,200 early-stage startups in Startup Alley, the very heart of every Disrupt event. A country pavilion waits just for you.\\nWe’re looking for delegations of international startup groups, government innovation centers, incubators and accelerators to claim a country pavilion in Startup Alley. Are you ready to step on a world stage, show off your emerging companies and be recognized as a world leader in tech innovation?\\nStartup Alley is prime real estate, where hundreds of founders from everywhere in the world — and investors looking to fund them — gather to meet, connect and network. And maybe even produce a unicorn or two.\\nIf you want to exhibit in Startup Alley as part of a country pavilion, your delegation startups must meet one low bar: they have to qualify as Pre-Series A companies. If they do, we want to hear from you, so shoot our Startup Alley manager an email at priya@techcrunch.com. Tell us about your delegation and where you’re from, and we’ll provide more information about the application process.\\nCountries that have participated in previous TechCrunch events include Argentina, Austria, Belgium, Brazil, the Caribbean, Catalonia, the Czech Republic, Germany, Hungary, Hong Kong, Korea, Japan, Lithuania, Taiwan, Ukraine and Uruguay. We believe that innovation and great ideas know no geographical boundaries, and we strive to increase the diversity within our country pavilions at every Disrupt.\\nWe’re so serious about inviting the world that we’re putting our money where our mouth is. Sign on for a country pavilion and you’ll receive a discount off each Startup Alley company’s exhibitor package, and you’ll get organizer passes to the event. Plus, if you book your pavilion before July 25, your startups will receive one additional Founder ticket to attend Disrupt SF.\\xa0You’ll find ticket pricing info here.\\n\\nAnd in case you haven’t heard, Disrupt SF 2018 is going to be the only Disrupt event in North America this year. Not only that, by moving to a new venue, we’re tripling our floor space, and we plan to host more than 10,000 attendees. It’s our biggest Disrupt ever.\\nDon’t forget about all the phenomenal programming that Disrupt offers. We’ve expanded to four distinct stages — including the Main Stage featuring interviews with tech titans and icons. You can expect programming that spans 12 tech category tracks: Artificial Intelligence, Augmented/Virtual Reality, Blockchain, Biotech, Fintech, Healthtech, Investor Topics, Justice/Diversity, Mobility, Privacy/Security, Robotics and Space (as in “outer”).\\nThen there’s the illustrious StartUp Battlefield, where competitors vie for a grand prize of non-equity cash, investor love and serious bragging rights, a virtual Hackathon (more details on that coming soon), Q & A Sessions that let you dive deep on crucial tech, hands-on workshops and after parties.\\nIf you’re a founder or an investor, you need to know about our CrunchMatch platform. It’s a quick, easy and efficient way to cut through the noise and connect with and meet the people looking for funding and the folks looking to provide it.\\nDisrupt San Francisco 2018 takes place on Sept. 5-7 at the Moscone Center West. Don’t miss the chance to showcase the best tech companies in your country. Email us about reserving your country pavilion today.',\n",
       "  'title': 'Showcase your country’s startups at Disrupt SF'},\n",
       " {'author': 'Danny Crichton',\n",
       "  'crawled_at': '2018-03-22',\n",
       "  'date': '2018/03/21',\n",
       "  'text': 'Over the past year, Cardiogram and UC San Francisco (UCSF) have presented a series of findings on how well consumer wearables like the Apple Watch and Android Wear can detect medical conditions in their users, including diabetes as well as hypertension and sleep apnea.\\nNow, the startup is reaching a new milestone, this morning publishing the first large-N peer-reviewed clinical study showing that the Apple Watch and other wearables can detect atrial fibrillation with a high degree of accuracy.\\nThe study, published in JAMA Cardiology, included 9,750 participants who used Cardiogram while enrolled in UCSF’s Health eHeart Study. The company collected more than one hundred million heart rate and step counts from users, and that data was fed into a deep learning model to determine whether a particular user had atrial fibrillation. Results from the study show that the condition can be detected at 97% accuracy (c statistic), with a sensitivity (true positive rate) of 98%, and a specificity (true negative rate) of 90%. The study is a continuation of earlier work that Cardiogram had previously presented.\\nOne of the major aspects of the study that Cardiogram  is highlighting is that their deep learning model, named DeepHeart, required significantly less training data than comparable models targeting medical conditions. Only 6,338 electrocardiograms (ECGs) were required to build the model, which was 8 layers. This is an important development, since ECGs are both expensive and time consuming to perform at scale. The company has published the methodology of their deep learning model on arXiv.\\nDiscussing the study, Brandon Ballinger, a co-founder of Cardiogram, explained to me that “This is super important. Every healthcare company needs to be built on a foundation of hard, clear evidence.” Ballinger noted that medical journal articles like the one published today are the only mechanism for building trust among health care professionals. “So we are super excited to reach this milestone.”\\nOne caveat of the study is that it focused on patients with a known risk of atrial fibrillation, and further research needs to be conducted to determine how well the company’s deep learning  model can prospectively detect the condition in patients with no treatment history. A second exploratory analysis on self-reported patients had an accuracy (c-statistic) of 71%.\\nCardiogram will continue to develop more studies going forward. “Just like Google invests in search quality, we are always going to be investing in clinical research,” Ballinger said. He said that the company is developing random control trials — the gold standard in healthcare clinical studies — as well as launching an economic analysis to evaluate whether consumer wearables may improve the cost structure of health care diagnostics.\\nA broader challenge is what to do with these results. Ballinger said that “consumer wearables can be used for accurate detection of these conditions, but we need to figure out the workflow.” If Cardiogram detects atrial fibrillation for instance, what should happen next for the patient? Should they go to a cardiologist and get follow-up tests, should they be sent an at-home detection kit? At scale, those decisions will have staggering consequences for patient outcomes as well as health care costs, and more work has to be done to properly and rigorously develop these workflows.\\nCardiogram, which was founded by Ballinger and Jonathan Hsieh in 2016, has raised $2 million in venture capital from A16Z’s Bio Fund. The app works both on Apple Watch as well as Android Wear watches with a heart rate sensor such as the Huawei Watch. The lead authors of the study were UCSF physicians Gregory Marcus, who is Director of Clinical Research in the Division of Cardiology, José Sanchez, and Geoff Tison.\\nUpdated to include the c-statistic for the second analysis.',\n",
       "  'title': 'Peer-reviewed study shows Cardiogram and Apple Watch can accurately determine atrial fibrillation'},\n",
       " {'author': 'Matthew Lynley',\n",
       "  'crawled_at': '2018-03-22',\n",
       "  'date': '2018/03/21',\n",
       "  'text': 'Dropbox  said it would be increasing its IPO price range – the range for which it will sell its shares for its initial public offering — from $16-$18 per share to $18-$20 per share, giving the company a valuation that could reach close to $8 billion, according to an updated filing with the Securities and Exchange Commission.\\nIncluding all shares offered from stockholders selling in this offering, the “greenshoe” and the actual IPO, Dropbox will have a valuation between $7.2 billion and $7.96 billion. Based on a fully-diluted share count, Dropbox’s valuation should land between $7.8 billion to $8.75 billion. It’s below Dropbox’s previous $10 billion valuation, but it’s still a signal that investors are interested in buying up Dropbox’s IPO, which will be the most well-known enterprise name to go public this year. Cloud security company Zscaler went public earlier this month and immediately saw a massive pop, but Dropbox will probably be lumped into a similar boat as Snap as a signal to whether investors are going to be interested in hyped startups.\\nThere will indeed be some shareholders selling stock in this offering, though it looks like for the most part the ownership is going to stay the same. There are a lot of reasons to sell a stock beyond just getting liquidation, such as paying taxes for other share options and exercises, so it’s not clear exactly what the motivations are for some employees for now.\\nDropbox has more than 500 million users, 11 million of which are paying users. While originally born as a consumer service, the company has sought to crack into the enterprise in order to help build a robust second line of business to tack alongside its typical consumer operations. Dropbox at the start had the benefit of spreading via word of mouth thanks to its dead-simple interface, but since then has started building out new tools geared toward larger businesses, such as Dropbox Paper.\\nIt’s also what’s made this IPO a somewhat tricky one. The process for this is normally the same, with the company setting a price range and then throwing it out there to see who bites. If things go well, the range goes up. If things go poorly, like the case of Blue Apron, the range is going to drop. This could always change at the last minute, but you can take this as another step toward its eventual listing, which is expected to happen later this week.',\n",
       "  'title': 'Dropbox boosts its price range for its IPO as it nears an $8B valuation'},\n",
       " {'author': 'Sarah Perez',\n",
       "  'crawled_at': '2018-03-22',\n",
       "  'date': '2018/03/21',\n",
       "  'text': 'I’m familiar with Roblox because my 8-year old daughter watches YouTube videos of kids playing the game almost every day. I’m also familiar with Roblox because she whined while we were running errands one weekend that she needed to “get on the internet right now” because she had scheduled a playdate with a friend in Roblox. And I’m familiar with Roblox because the other day, she uttered, “ugh, this obby,” which forced me to turn to Google like the old person I am to find out what the heck an obby was.\\n(It’s an obstacle course, in Roblox lingo, by the way.)\\nYou see, I’m not the core demographic for Roblox, the massive gaming platform that now sees over 50 million kids playing every month. I’m a grown-up.\\nRoblox users tend to be young – ages 8 through 18 play the game, though the core demographic is really more 9 to 15.\\nFor those unfamiliar, Roblox is a universe of user-generated 3D virtual worlds, where kids can engage in open-ended play. They customize their own characters, and then do things like run through obstacle courses, build the roller coaster of their dreams, pretend to be a superhero, ride a hot air balloon to a castle in the sky, go scuba diving, run a pizza parlor, and much more.\\n\\nBut more importantly, kids aren’t generally playing alone.\\n“A lot of kids come to Roblox to play with their friends,” explains Craig Donato, Roblox Chief Business Officer. “It’s like a virtual playground where they tend to jump from game to game with their friends – almost like jumping like I used to jump from the swing set to the monkey bars.”\\nKids can chat in the game, which is moderated both automatically to filter out bad words, as well as by human moderators. There are also “report abuse” features, and Roblox scans all user-gen content before it’s added to the platform.\\nBut often, kids aren’t using in-game chat – they’ll call each other on FaceTime and play Roblox together. And sometimes record long YouTube videos of them just goofing around in the game.\\nAlso of note, everything in Roblox has been built by other players, typically kids or young adults. That’s why the company of ten years only really began to take off a couple of years ago – when there was finally enough user-generated content to keep kids engaged.\\nUsers often start off by playing Roblox in elementary school, then in middle school download\\xa0Roblox Studio, the company’s creation engine, to build their own games and experiences. By high school, those who have learned to code start to customize their games even further.\\n\\nTo date, there are over 15 million user-generated games on Roblox, with over 11 million titles released last year alone. Those 11 million titles were produced by over 2 million creators, up from 1 million creators the year prior. 1,500 of those titles have topped 1 million views.\\nThe games themselves are all free-to-play, with the creators instead charging for virtual items that kids can buy with virtual cash called\\xa0Robux.\\nRoblox says it paid out more than $30 million to its creator community in 2017. (The company splits revenue from the games with creators, keeping about 30 percent after payment processing and hosting costs.)\\n“The top creators on the platform – which are typically high school kids – are making two to three million dollars a year,” notes Donato.\\nRoblox, in other words, is hitting its stride.\\nToday the company is announcing these metrics and others, along with news that it’s now cash-flow positive having generated hundreds of millions in 2017 billings, up 150 percent over last year.\\xa0It’s now bringing on a CFO, Mike Guthrie, previously CFO at TruCar, to help it figure out its next steps.\\n\\nTo determine its position in the state of the entertainment industry, Roblox\\xa0had comScore compile data on how it compares to other online entertainment properties during the month of December 2017, and found that kids under 13 were spending more time in Roblox (51.5M hours) than on YouTube, Netflix or other social properties. And Roblox came into second place for teens, behind YouTube.\\nRoblox also saw more monthly visits during the month, for both kids and teens.\\n\\nAround half Roblox usage is on mobile, with 40 percent on desktop and 10 percent on consoles.\\n“We’ve been around for about ten years, but the company started taking off about two years ago,” says Donato. (It was formally founded in 2006, and became COPPA compliant in 2007). “It just took awhile before we hit that mix of having a great amount of content. Obviously, the more players showed up, the more content was created, and that created a\\xa0virtuous circle,” he added.\\n\\n\\n\\n\\nWith its community now well-established in the U.S., Roblox is preparing to take its gaming platform international this year, by adding support for other languages besides English, and other currencies.\\nIt will also expand its efforts with physical goods, where it today has action figures and has started to sell branded apparel. Roblox books based on the intellectual property created by its community will be released, with creators getting a split of these revenues, too.\\nHowever, physical goods aren’t a large part of Roblox revenues, nor is advertising, which only constitutes around 5 percent of revenue. Most of it comes from the user-gen content.\\nRoblox will soon go after more brand partnerships, as well, like one it did recently with Warner Bros. to promote the movie “Ready Player One” in-game. And it will double its 300-person team to 600 over the next year.\\nTo date, Roblox has raised over $100 million in funding from Meritech, Index Ventures, First Round Capital, and Altos Ventures.',\n",
       "  'title': 'Roblox, the Club Penguin for Gen Z, is now cash-flow positive'}]"
      ]
     },
     "execution_count": 69,
     "metadata": {},
     "output_type": "execute_result"
    }
   ],
   "source": []
  },
  {
   "cell_type": "code",
   "execution_count": 70,
   "metadata": {},
   "outputs": [
    {
     "data": {
      "text/html": [
       "<div>\n",
       "<style>\n",
       "    .dataframe thead tr:only-child th {\n",
       "        text-align: right;\n",
       "    }\n",
       "\n",
       "    .dataframe thead th {\n",
       "        text-align: left;\n",
       "    }\n",
       "\n",
       "    .dataframe tbody tr th {\n",
       "        vertical-align: top;\n",
       "    }\n",
       "</style>\n",
       "<table border=\"1\" class=\"dataframe\">\n",
       "  <thead>\n",
       "    <tr style=\"text-align: right;\">\n",
       "      <th></th>\n",
       "      <th>author</th>\n",
       "      <th>crawled_at</th>\n",
       "      <th>date</th>\n",
       "      <th>text</th>\n",
       "      <th>title</th>\n",
       "    </tr>\n",
       "  </thead>\n",
       "  <tbody>\n",
       "    <tr>\n",
       "      <th>0</th>\n",
       "      <td>Steve O'Hear</td>\n",
       "      <td>2018-03-22</td>\n",
       "      <td>2018/03/22</td>\n",
       "      <td>Changes are afoot at Tide, the U.K. fintech st...</td>\n",
       "      <td>The founder of business banking startup Tide p...</td>\n",
       "    </tr>\n",
       "    <tr>\n",
       "      <th>1</th>\n",
       "      <td>Romain Dillet</td>\n",
       "      <td>2018-03-22</td>\n",
       "      <td>2018/03/22</td>\n",
       "      <td>Fintech  startup Revolut is launching a new ty...</td>\n",
       "      <td>Revolut launches disposable virtual cards</td>\n",
       "    </tr>\n",
       "    <tr>\n",
       "      <th>2</th>\n",
       "      <td>Lucas Matney</td>\n",
       "      <td>2018-03-22</td>\n",
       "      <td>2018/03/21</td>\n",
       "      <td>Virtual reality seems to have become a very ti...</td>\n",
       "      <td>First impressions of the $199 Oculus Go VR hea...</td>\n",
       "    </tr>\n",
       "    <tr>\n",
       "      <th>3</th>\n",
       "      <td>Matt Burns</td>\n",
       "      <td>2018-03-22</td>\n",
       "      <td>2018/03/21</td>\n",
       "      <td>The Tempe, Arizona police department have rele...</td>\n",
       "      <td>Video: The driver of the autonomous Uber was d...</td>\n",
       "    </tr>\n",
       "    <tr>\n",
       "      <th>4</th>\n",
       "      <td>Devin Coldewey</td>\n",
       "      <td>2018-03-22</td>\n",
       "      <td>2018/03/21</td>\n",
       "      <td>For the visually impaired, there are lots of a...</td>\n",
       "      <td>Get the latest TC stories read to you over the...</td>\n",
       "    </tr>\n",
       "  </tbody>\n",
       "</table>\n",
       "</div>"
      ],
      "text/plain": [
       "           author  crawled_at        date  \\\n",
       "0    Steve O'Hear  2018-03-22  2018/03/22   \n",
       "1   Romain Dillet  2018-03-22  2018/03/22   \n",
       "2    Lucas Matney  2018-03-22  2018/03/21   \n",
       "3      Matt Burns  2018-03-22  2018/03/21   \n",
       "4  Devin Coldewey  2018-03-22  2018/03/21   \n",
       "\n",
       "                                                text  \\\n",
       "0  Changes are afoot at Tide, the U.K. fintech st...   \n",
       "1  Fintech  startup Revolut is launching a new ty...   \n",
       "2  Virtual reality seems to have become a very ti...   \n",
       "3  The Tempe, Arizona police department have rele...   \n",
       "4  For the visually impaired, there are lots of a...   \n",
       "\n",
       "                                               title  \n",
       "0  The founder of business banking startup Tide p...  \n",
       "1          Revolut launches disposable virtual cards  \n",
       "2  First impressions of the $199 Oculus Go VR hea...  \n",
       "3  Video: The driver of the autonomous Uber was d...  \n",
       "4  Get the latest TC stories read to you over the...  "
      ]
     },
     "execution_count": 70,
     "metadata": {},
     "output_type": "execute_result"
    }
   ],
   "source": [
    "df = pd.DataFrame(articles)\n",
    "df.head()"
   ]
  },
  {
   "cell_type": "code",
   "execution_count": 71,
   "metadata": {
    "collapsed": true
   },
   "outputs": [],
   "source": [
    "df.to_csv('filex.csv', sep=';')"
   ]
  },
  {
   "cell_type": "markdown",
   "metadata": {},
   "source": [
    "### Summary\n",
    "In this section we learned how to write a basic webcrawler, which gets a starting URL and explores the articles published on TechCrunch in a given pattern. The webcrawler we developed is a really simple one. You could enhence the webcrawler e.g. by:\n",
    "- Storing all files HTML files [Reference](https://www.digitalocean.com/community/tutorials/how-to-handle-plain-text-files-in-python-3)\n",
    "- Add logging to your code [Reference](https://docs.python.org/3/howto/logging-cookbook.html)\n",
    "- Filter the pages, e.g. to only collect articles with the tag _Artificial Intelligence_\n",
    "\n",
    "### Questions?\n"
   ]
  }
 ],
 "metadata": {
  "kernelspec": {
   "display_name": "Python 3",
   "language": "python",
   "name": "python3"
  },
  "language_info": {
   "codemirror_mode": {
    "name": "ipython",
    "version": 3
   },
   "file_extension": ".py",
   "mimetype": "text/x-python",
   "name": "python",
   "nbconvert_exporter": "python",
   "pygments_lexer": "ipython3",
   "version": "3.6.3"
  }
 },
 "nbformat": 4,
 "nbformat_minor": 2
}
